{
 "cells": [
  {
   "cell_type": "markdown",
   "id": "3f3e79df",
   "metadata": {},
   "source": [
    "## Feature engineering\n",
    "### We are going to classify the predictors for price in 3 categories\n",
    "1. Listing Predictors: everything related to the property, location, space, people it hosts . Is is entire property or room for rent\n",
    "2. Owner predictors: how responsive is the owner? \n",
    "3. Reviews predictos - comments - topics. using BERTopic\n"
   ]
  },
  {
   "cell_type": "code",
   "execution_count": 1,
   "id": "612b02fa",
   "metadata": {},
   "outputs": [],
   "source": [
    "#import necessary packages\n",
    "import pandas as pd\n",
    "\n",
    "import numpy as np \n",
    "import seaborn as sns\n",
    "import matplotlib.pyplot as plt\n",
    "\n",
    "import statsmodels.api as sm\n",
    "#Support for formulas\n",
    "import statsmodels.formula.api as smf\n",
    "#Use glm() directly\n",
    "from statsmodels.formula.api import glm"
   ]
  },
  {
   "cell_type": "code",
   "execution_count": 2,
   "id": "4db517a9",
   "metadata": {},
   "outputs": [
    {
     "name": "stderr",
     "output_type": "stream",
     "text": [
      "/var/folders/tr/q_709j197n3f6py54vpmh1tw0000gn/T/ipykernel_49863/2206571187.py:3: DtypeWarning: Columns (0,1,43) have mixed types. Specify dtype option on import or set low_memory=False.\n",
      "  df_final = pd.read_csv(path1)\n"
     ]
    }
   ],
   "source": [
    "#read files (chicago)\n",
    "path1=f\"./final_df_lnlm.csv\"\n",
    "df_final = pd.read_csv(path1)\n"
   ]
  },
  {
   "cell_type": "code",
   "execution_count": 3,
   "id": "592f1a9f",
   "metadata": {},
   "outputs": [],
   "source": [
    "df_to_submit = df_final.head(20)\n"
   ]
  },
  {
   "cell_type": "code",
   "execution_count": 6,
   "id": "77629deb",
   "metadata": {},
   "outputs": [],
   "source": [
    "df_to_submit = df_to_submit[['id', 'host_id','city','property_type', 'room_type', 'accommodates',\n",
    "       'bathrooms', 'bathrooms_text', 'bedrooms', 'beds','price',\n",
    "       'host_since', 'host_location', 'host_response_time',\n",
    "       'host_response_rate', 'host_acceptance_rate', 'host_is_superhost',\n",
    "       'host_neighbourhood', 'host_listings_count', 'neighbourhood',\n",
    "       'neighbourhood_cleansed',  'amenities', \n",
    "       'minimum_nights', 'maximum_nights', 'number_of_reviews', 'first_review',\n",
    "       'last_review', 'review_scores_rating', 'review_scores_accuracy',\n",
    "       'review_scores_cleanliness', 'review_scores_checkin',\n",
    "       'review_scores_communication', 'review_scores_location',\n",
    "       'review_scores_value', 'instant_bookable',\n",
    "       'reviews_per_month',\n",
    "       'listing_id', 'comments', 'description', 'neighborhood_overview',]]"
   ]
  },
  {
   "cell_type": "code",
   "execution_count": 7,
   "id": "cea75d75",
   "metadata": {},
   "outputs": [],
   "source": [
    "df_to_submit.to_csv('airbnb_datasample.csv',index=False)"
   ]
  },
  {
   "cell_type": "code",
   "execution_count": 3,
   "id": "d787e070",
   "metadata": {},
   "outputs": [
    {
     "data": {
      "text/plain": [
       "22242"
      ]
     },
     "execution_count": 3,
     "metadata": {},
     "output_type": "execute_result"
    }
   ],
   "source": [
    "df_final['listing_id'].count()"
   ]
  },
  {
   "cell_type": "code",
   "execution_count": 4,
   "id": "70c83db3",
   "metadata": {},
   "outputs": [
    {
     "data": {
      "text/plain": [
       "Index(['Unnamed: 0', 'id', 'description', 'neighborhood_overview', 'host_id',\n",
       "       'host_since', 'host_location', 'host_response_time',\n",
       "       'host_response_rate', 'host_acceptance_rate', 'host_is_superhost',\n",
       "       'host_neighbourhood', 'host_listings_count', 'neighbourhood',\n",
       "       'neighbourhood_cleansed', 'property_type', 'room_type', 'accommodates',\n",
       "       'bathrooms', 'bathrooms_text', 'bedrooms', 'beds', 'amenities', 'price',\n",
       "       'minimum_nights', 'maximum_nights', 'number_of_reviews', 'first_review',\n",
       "       'last_review', 'review_scores_rating', 'review_scores_accuracy',\n",
       "       'review_scores_cleanliness', 'review_scores_checkin',\n",
       "       'review_scores_communication', 'review_scores_location',\n",
       "       'review_scores_value', 'instant_bookable',\n",
       "       'calculated_host_listings_count',\n",
       "       'calculated_host_listings_count_entire_homes',\n",
       "       'calculated_host_listings_count_private_rooms',\n",
       "       'calculated_host_listings_count_shared_rooms', 'reviews_per_month',\n",
       "       'listing_id', 'comments', 'city'],\n",
       "      dtype='object')"
      ]
     },
     "execution_count": 4,
     "metadata": {},
     "output_type": "execute_result"
    }
   ],
   "source": [
    "df_final.columns"
   ]
  },
  {
   "cell_type": "markdown",
   "id": "776511c3",
   "metadata": {},
   "source": [
    "### DATA CLEANING - NULL VALUES & CORRELATION\n"
   ]
  },
  {
   "cell_type": "markdown",
   "id": "5a6131e9",
   "metadata": {},
   "source": [
    "### Check for null values in the variables \n",
    "#### Before starting any exploration - we will check if there are variables we need to drop or estimate later"
   ]
  },
  {
   "cell_type": "code",
   "execution_count": 5,
   "id": "89887b3a",
   "metadata": {},
   "outputs": [],
   "source": [
    "# Drop some variables wi ewill not use:\n",
    "df_final_clean = df_final.drop(['id','Unnamed: 0',\n",
    "                                'host_location','host_neighbourhood'],axis=1)"
   ]
  },
  {
   "cell_type": "code",
   "execution_count": 6,
   "id": "6c6f0835",
   "metadata": {},
   "outputs": [
    {
     "name": "stderr",
     "output_type": "stream",
     "text": [
      "/var/folders/tr/q_709j197n3f6py54vpmh1tw0000gn/T/ipykernel_71905/3168110230.py:1: FutureWarning: The default value of regex will change from True to False in a future version. In addition, single character regular expressions will *not* be treated as literal strings when regex=True.\n",
      "  df_final_clean['price'] = df_final_clean['price'].str.replace('$', '').str.replace(',', '')\n"
     ]
    }
   ],
   "source": [
    "df_final_clean['price'] = df_final_clean['price'].str.replace('$', '').str.replace(',', '')\n",
    "df_final_clean['price'] = df_final_clean['price'].astype('float')"
   ]
  },
  {
   "cell_type": "code",
   "execution_count": 7,
   "id": "eae38c9a",
   "metadata": {},
   "outputs": [
    {
     "data": {
      "text/plain": [
       "count    47022.000000\n",
       "mean       210.154466\n",
       "std        166.445684\n",
       "min          0.000000\n",
       "25%         95.000000\n",
       "50%        159.000000\n",
       "75%        269.000000\n",
       "max        999.000000\n",
       "Name: price, dtype: float64"
      ]
     },
     "execution_count": 7,
     "metadata": {},
     "output_type": "execute_result"
    }
   ],
   "source": [
    "# Remove properties that are in the 0.05 top price - As they are outliers\n",
    "df_final_clean = df_final_clean[df_final_clean['price'] < 1000]\n",
    "df_final_clean = df_final_clean[df_final_clean[\"minimum_nights\"] < 15]\n",
    "df_final_clean['price'].describe()"
   ]
  },
  {
   "cell_type": "code",
   "execution_count": 8,
   "id": "027b48a4",
   "metadata": {},
   "outputs": [
    {
     "data": {
      "text/plain": [
       "Index(['description', 'neighborhood_overview', 'host_id', 'host_since',\n",
       "       'host_response_time', 'host_response_rate', 'host_acceptance_rate',\n",
       "       'host_is_superhost', 'host_listings_count', 'neighbourhood',\n",
       "       'neighbourhood_cleansed', 'property_type', 'room_type', 'accommodates',\n",
       "       'bathrooms', 'bathrooms_text', 'bedrooms', 'beds', 'amenities', 'price',\n",
       "       'minimum_nights', 'maximum_nights', 'number_of_reviews', 'first_review',\n",
       "       'last_review', 'review_scores_rating', 'review_scores_accuracy',\n",
       "       'review_scores_cleanliness', 'review_scores_checkin',\n",
       "       'review_scores_communication', 'review_scores_location',\n",
       "       'review_scores_value', 'instant_bookable',\n",
       "       'calculated_host_listings_count',\n",
       "       'calculated_host_listings_count_entire_homes',\n",
       "       'calculated_host_listings_count_private_rooms',\n",
       "       'calculated_host_listings_count_shared_rooms', 'reviews_per_month',\n",
       "       'listing_id', 'comments', 'city'],\n",
       "      dtype='object')"
      ]
     },
     "execution_count": 8,
     "metadata": {},
     "output_type": "execute_result"
    }
   ],
   "source": [
    "df_final_clean.columns"
   ]
  },
  {
   "cell_type": "code",
   "execution_count": 9,
   "id": "4f7a1980",
   "metadata": {},
   "outputs": [
    {
     "data": {
      "text/html": [
       "<div>\n",
       "<style scoped>\n",
       "    .dataframe tbody tr th:only-of-type {\n",
       "        vertical-align: middle;\n",
       "    }\n",
       "\n",
       "    .dataframe tbody tr th {\n",
       "        vertical-align: top;\n",
       "    }\n",
       "\n",
       "    .dataframe thead th {\n",
       "        text-align: right;\n",
       "    }\n",
       "</style>\n",
       "<table border=\"1\" class=\"dataframe\">\n",
       "  <thead>\n",
       "    <tr style=\"text-align: right;\">\n",
       "      <th></th>\n",
       "      <th>city</th>\n",
       "      <th>description</th>\n",
       "    </tr>\n",
       "  </thead>\n",
       "  <tbody>\n",
       "    <tr>\n",
       "      <th>0</th>\n",
       "      <td>Chicago</td>\n",
       "      <td>4839</td>\n",
       "    </tr>\n",
       "    <tr>\n",
       "      <th>1</th>\n",
       "      <td>Los angeles</td>\n",
       "      <td>22202</td>\n",
       "    </tr>\n",
       "    <tr>\n",
       "      <th>2</th>\n",
       "      <td>New York</td>\n",
       "      <td>19256</td>\n",
       "    </tr>\n",
       "  </tbody>\n",
       "</table>\n",
       "</div>"
      ],
      "text/plain": [
       "          city  description\n",
       "0      Chicago         4839\n",
       "1  Los angeles        22202\n",
       "2     New York        19256"
      ]
     },
     "execution_count": 9,
     "metadata": {},
     "output_type": "execute_result"
    }
   ],
   "source": [
    "to_plot = df_final_clean[['city','description']].groupby(['city']).count().reset_index()\n",
    "\n",
    "to_plot\n",
    "\n",
    "#create pie chart\n",
    "#plt.pie(to_plot['id'],labels =  list(to_plot['city'].drop_duplicates()) )\n",
    "#plt.show()"
   ]
  },
  {
   "cell_type": "code",
   "execution_count": 10,
   "id": "a0d01669",
   "metadata": {},
   "outputs": [
    {
     "data": {
      "text/plain": [
       "<AxesSubplot:xlabel='price', ylabel='Count'>"
      ]
     },
     "execution_count": 10,
     "metadata": {},
     "output_type": "execute_result"
    },
    {
     "data": {
      "image/png": "[encoded data removed]",
      "text/plain": [
       "<Figure size 432x288 with 1 Axes>"
      ]
     },
     "metadata": {
      "needs_background": "light"
     },
     "output_type": "display_data"
    }
   ],
   "source": [
    "\n",
    "sns.histplot(data=df_final_clean, x=\"price\",bins = 15,color='tomato')"
   ]
  },
  {
   "cell_type": "code",
   "execution_count": 11,
   "id": "8edba6ac",
   "metadata": {},
   "outputs": [],
   "source": [
    "# variables drop : Many null values not a lot of value to add\n",
    "#df = df.drop(['bathrooms'],axis=1)\n",
    "import re\n",
    "df_final_clean['Shared_bathroom'] = np.where(df_final_clean['bathrooms_text'].str.contains('shared'),1,0)\n",
    "df_final_clean['bathrooms'] = df_final_clean.bathrooms_text.str.extract('(\\d+)')\n",
    "mean_value=df_final_clean['bathrooms'].dropna(how='any').median().astype('int')\n",
    "df_final_clean['bathrooms'].fillna(value=mean_value, inplace=True)\n",
    "df_final_clean['bathrooms'] = df_final_clean['bathrooms'].astype('int')"
   ]
  },
  {
   "cell_type": "code",
   "execution_count": 12,
   "id": "a67570e0",
   "metadata": {},
   "outputs": [
    {
     "data": {
      "text/plain": [
       "count    47022.000000\n",
       "mean         1.310472\n",
       "std          0.679874\n",
       "min          0.000000\n",
       "25%          1.000000\n",
       "50%          1.000000\n",
       "75%          1.000000\n",
       "max         12.000000\n",
       "Name: bathrooms, dtype: float64"
      ]
     },
     "execution_count": 12,
     "metadata": {},
     "output_type": "execute_result"
    }
   ],
   "source": [
    "df_final_clean['bathrooms'].describe()"
   ]
  },
  {
   "cell_type": "code",
   "execution_count": 13,
   "id": "39a6116b",
   "metadata": {},
   "outputs": [
    {
     "data": {
      "image/png": "[encoded data removed]",
      "text/plain": [
       "<Figure size 360x720 with 1 Axes>"
      ]
     },
     "metadata": {
      "needs_background": "light"
     },
     "output_type": "display_data"
    }
   ],
   "source": [
    "import matplotlib.pyplot as plt\n",
    "plt.rcParams[\"figure.figsize\"] = (5,10)\n",
    "def plot_nas(df: pd.DataFrame):\n",
    "    if df.isnull().sum().sum() != 0:\n",
    "        na_df = (df.isnull().sum() / len(df)) * 100      \n",
    "        na_df = na_df.drop(na_df[na_df == 0].index).sort_values(ascending=False)\n",
    "        missing_data = pd.DataFrame({'Missing Ratio %' :na_df})\n",
    "        missing_data.plot(kind = \"barh\")\n",
    "        plt.show()\n",
    "    else:\n",
    "        print('No NAs found')\n",
    "plot_nas(df_final_clean)"
   ]
  },
  {
   "cell_type": "code",
   "execution_count": 14,
   "id": "fac3e2ae",
   "metadata": {},
   "outputs": [],
   "source": [
    "# Dummy variables \n",
    "# property type : room or entire property\n",
    "entire_property_values=['Shared room','Private room','Hotel room']\n",
    "df_final_clean['entire_property'] = np.where(df_final_clean['room_type'].isin(entire_property_values),0,1) \n",
    "\n",
    "# keep room_type : private vs shared\n",
    "df_final_clean['room_type'].drop_duplicates()\n",
    "df_final_clean['shared_room'] = np.where(df_final_clean['room_type'].isin(['Shared room']),1,0) "
   ]
  },
  {
   "cell_type": "code",
   "execution_count": 15,
   "id": "ad68fd2e",
   "metadata": {},
   "outputs": [
    {
     "name": "stdout",
     "output_type": "stream",
     "text": [
      "0         Private room\n",
      "1      Entire home/apt\n",
      "53         Shared room\n",
      "231         Hotel room\n",
      "Name: room_type, dtype: object\n"
     ]
    }
   ],
   "source": [
    "print(df_final_clean['room_type'].drop_duplicates())"
   ]
  },
  {
   "cell_type": "code",
   "execution_count": 16,
   "id": "b56626e9",
   "metadata": {},
   "outputs": [
    {
     "data": {
      "text/plain": [
       "<AxesSubplot:xlabel='entire_property', ylabel='price'>"
      ]
     },
     "execution_count": 16,
     "metadata": {},
     "output_type": "execute_result"
    },
    {
     "data": {
      "image/png": "[encoded data removed]",
      "text/plain": [
       "<Figure size 842.4x595.44 with 1 Axes>"
      ]
     },
     "metadata": {},
     "output_type": "display_data"
    }
   ],
   "source": [
    "#sns.set_style(\"white\").color_palette(\"RdPu\", 10)\n",
    "sns.set(rc={'figure.figsize':(11.7,8.27)})\n",
    "\n",
    "#sequential_colors = sns.color_palette(\"RdPu\", 10)\n",
    "#sns.palplot(sequential_colors)\n",
    "\n",
    "\n",
    "#Palette = sns.color_palette(\"RdPu\", 10) #define your preference\n",
    "sns.set_style(\"white\")\n",
    "sns.set_palette(\"rocket\",4) #use the list defined in the function\n",
    "sns.boxplot(data=df_final_clean, \n",
    "            x='entire_property', \n",
    "            y=\"price\",\n",
    "            showfliers=False)\n",
    "           \n"
   ]
  },
  {
   "cell_type": "code",
   "execution_count": 17,
   "id": "8842991a",
   "metadata": {},
   "outputs": [
    {
     "data": {
      "text/plain": [
       "<AxesSubplot:xlabel='room_type', ylabel='price'>"
      ]
     },
     "execution_count": 17,
     "metadata": {},
     "output_type": "execute_result"
    },
    {
     "data": {
      "image/png": "[encoded data removed]",
      "text/plain": [
       "<Figure size 842.4x595.44 with 1 Axes>"
      ]
     },
     "metadata": {},
     "output_type": "display_data"
    }
   ],
   "source": [
    "sns.set_style(\"white\")\n",
    "sns.color_palette(\"rocket\")\n",
    "sns.boxplot(data=df_final_clean, y=\"price\", x='room_type',showfliers=False,palette=\"rocket\")"
   ]
  },
  {
   "cell_type": "code",
   "execution_count": 18,
   "id": "289b642f",
   "metadata": {},
   "outputs": [
    {
     "data": {
      "text/html": [
       "<div>\n",
       "<style scoped>\n",
       "    .dataframe tbody tr th:only-of-type {\n",
       "        vertical-align: middle;\n",
       "    }\n",
       "\n",
       "    .dataframe tbody tr th {\n",
       "        vertical-align: top;\n",
       "    }\n",
       "\n",
       "    .dataframe thead th {\n",
       "        text-align: right;\n",
       "    }\n",
       "</style>\n",
       "<table border=\"1\" class=\"dataframe\">\n",
       "  <thead>\n",
       "    <tr style=\"text-align: right;\">\n",
       "      <th></th>\n",
       "      <th>description</th>\n",
       "      <th>neighborhood_overview</th>\n",
       "      <th>host_id</th>\n",
       "      <th>host_since</th>\n",
       "      <th>host_response_time</th>\n",
       "      <th>host_response_rate</th>\n",
       "      <th>host_acceptance_rate</th>\n",
       "      <th>host_is_superhost</th>\n",
       "      <th>host_listings_count</th>\n",
       "      <th>neighbourhood</th>\n",
       "      <th>...</th>\n",
       "      <th>calculated_host_listings_count_entire_homes</th>\n",
       "      <th>calculated_host_listings_count_private_rooms</th>\n",
       "      <th>calculated_host_listings_count_shared_rooms</th>\n",
       "      <th>reviews_per_month</th>\n",
       "      <th>listing_id</th>\n",
       "      <th>comments</th>\n",
       "      <th>city</th>\n",
       "      <th>Shared_bathroom</th>\n",
       "      <th>entire_property</th>\n",
       "      <th>shared_room</th>\n",
       "    </tr>\n",
       "    <tr>\n",
       "      <th>room_type</th>\n",
       "      <th></th>\n",
       "      <th></th>\n",
       "      <th></th>\n",
       "      <th></th>\n",
       "      <th></th>\n",
       "      <th></th>\n",
       "      <th></th>\n",
       "      <th></th>\n",
       "      <th></th>\n",
       "      <th></th>\n",
       "      <th></th>\n",
       "      <th></th>\n",
       "      <th></th>\n",
       "      <th></th>\n",
       "      <th></th>\n",
       "      <th></th>\n",
       "      <th></th>\n",
       "      <th></th>\n",
       "      <th></th>\n",
       "      <th></th>\n",
       "      <th></th>\n",
       "    </tr>\n",
       "  </thead>\n",
       "  <tbody>\n",
       "    <tr>\n",
       "      <th>Entire home/apt</th>\n",
       "      <td>30092</td>\n",
       "      <td>19071</td>\n",
       "      <td>30359</td>\n",
       "      <td>30329</td>\n",
       "      <td>27354</td>\n",
       "      <td>27354</td>\n",
       "      <td>28212</td>\n",
       "      <td>30356</td>\n",
       "      <td>30329</td>\n",
       "      <td>19071</td>\n",
       "      <td>...</td>\n",
       "      <td>30359</td>\n",
       "      <td>30359</td>\n",
       "      <td>30359</td>\n",
       "      <td>27112</td>\n",
       "      <td>6406</td>\n",
       "      <td>3328</td>\n",
       "      <td>30359</td>\n",
       "      <td>30359</td>\n",
       "      <td>30359</td>\n",
       "      <td>30359</td>\n",
       "    </tr>\n",
       "    <tr>\n",
       "      <th>Private room</th>\n",
       "      <td>15327</td>\n",
       "      <td>9028</td>\n",
       "      <td>15734</td>\n",
       "      <td>15734</td>\n",
       "      <td>13045</td>\n",
       "      <td>13045</td>\n",
       "      <td>13740</td>\n",
       "      <td>15731</td>\n",
       "      <td>15734</td>\n",
       "      <td>9029</td>\n",
       "      <td>...</td>\n",
       "      <td>15734</td>\n",
       "      <td>15734</td>\n",
       "      <td>15734</td>\n",
       "      <td>13518</td>\n",
       "      <td>3008</td>\n",
       "      <td>1056</td>\n",
       "      <td>15734</td>\n",
       "      <td>15734</td>\n",
       "      <td>15734</td>\n",
       "      <td>15734</td>\n",
       "    </tr>\n",
       "    <tr>\n",
       "      <th>Shared room</th>\n",
       "      <td>605</td>\n",
       "      <td>282</td>\n",
       "      <td>622</td>\n",
       "      <td>622</td>\n",
       "      <td>497</td>\n",
       "      <td>497</td>\n",
       "      <td>525</td>\n",
       "      <td>622</td>\n",
       "      <td>622</td>\n",
       "      <td>282</td>\n",
       "      <td>...</td>\n",
       "      <td>622</td>\n",
       "      <td>622</td>\n",
       "      <td>622</td>\n",
       "      <td>496</td>\n",
       "      <td>117</td>\n",
       "      <td>56</td>\n",
       "      <td>622</td>\n",
       "      <td>622</td>\n",
       "      <td>622</td>\n",
       "      <td>622</td>\n",
       "    </tr>\n",
       "  </tbody>\n",
       "</table>\n",
       "<p>3 rows × 43 columns</p>\n",
       "</div>"
      ],
      "text/plain": [
       "                 description  neighborhood_overview  host_id  host_since  \\\n",
       "room_type                                                                  \n",
       "Entire home/apt        30092                  19071    30359       30329   \n",
       "Private room           15327                   9028    15734       15734   \n",
       "Shared room              605                    282      622         622   \n",
       "\n",
       "                 host_response_time  host_response_rate  host_acceptance_rate  \\\n",
       "room_type                                                                       \n",
       "Entire home/apt               27354               27354                 28212   \n",
       "Private room                  13045               13045                 13740   \n",
       "Shared room                     497                 497                   525   \n",
       "\n",
       "                 host_is_superhost  host_listings_count  neighbourhood  ...  \\\n",
       "room_type                                                               ...   \n",
       "Entire home/apt              30356                30329          19071  ...   \n",
       "Private room                 15731                15734           9029  ...   \n",
       "Shared room                    622                  622            282  ...   \n",
       "\n",
       "                 calculated_host_listings_count_entire_homes  \\\n",
       "room_type                                                      \n",
       "Entire home/apt                                        30359   \n",
       "Private room                                           15734   \n",
       "Shared room                                              622   \n",
       "\n",
       "                 calculated_host_listings_count_private_rooms  \\\n",
       "room_type                                                       \n",
       "Entire home/apt                                         30359   \n",
       "Private room                                            15734   \n",
       "Shared room                                               622   \n",
       "\n",
       "                 calculated_host_listings_count_shared_rooms  \\\n",
       "room_type                                                      \n",
       "Entire home/apt                                        30359   \n",
       "Private room                                           15734   \n",
       "Shared room                                              622   \n",
       "\n",
       "                 reviews_per_month  listing_id  comments   city  \\\n",
       "room_type                                                         \n",
       "Entire home/apt              27112        6406      3328  30359   \n",
       "Private room                 13518        3008      1056  15734   \n",
       "Shared room                    496         117        56    622   \n",
       "\n",
       "                 Shared_bathroom  entire_property  shared_room  \n",
       "room_type                                                       \n",
       "Entire home/apt            30359            30359        30359  \n",
       "Private room               15734            15734        15734  \n",
       "Shared room                  622              622          622  \n",
       "\n",
       "[3 rows x 43 columns]"
      ]
     },
     "execution_count": 18,
     "metadata": {},
     "output_type": "execute_result"
    }
   ],
   "source": [
    "df_final_clean = df_final_clean[df_final_clean['room_type'] != 'Hotel room']\n",
    "df_final_clean.groupby('room_type').count()"
   ]
  },
  {
   "cell_type": "code",
   "execution_count": 19,
   "id": "d68da8c3",
   "metadata": {},
   "outputs": [
    {
     "data": {
      "text/plain": [
       "<AxesSubplot:xlabel='city', ylabel='price'>"
      ]
     },
     "execution_count": 19,
     "metadata": {},
     "output_type": "execute_result"
    },
    {
     "data": {
      "image/png": "[encoded data removed]",
      "text/plain": [
       "<Figure size 842.4x595.44 with 1 Axes>"
      ]
     },
     "metadata": {},
     "output_type": "display_data"
    }
   ],
   "source": [
    "sns.set_style(\"white\")\n",
    "sns.boxplot(data=df_final_clean, y=\"price\", x='city',showfliers=False,palette=\"rocket\")"
   ]
  },
  {
   "cell_type": "markdown",
   "id": "f4565491",
   "metadata": {},
   "source": [
    "### Correlation heat maps - by variable groups"
   ]
  },
  {
   "cell_type": "markdown",
   "id": "ba2d71c9",
   "metadata": {},
   "source": [
    "#### Listings predictors"
   ]
  },
  {
   "cell_type": "code",
   "execution_count": 20,
   "id": "ef468d87",
   "metadata": {},
   "outputs": [
    {
     "data": {
      "text/html": [
       "<style type=\"text/css\">\n",
       "#T_701b4_row0_col0, #T_701b4_row1_col1, #T_701b4_row2_col2, #T_701b4_row3_col3, #T_701b4_row4_col4, #T_701b4_row5_col5, #T_701b4_row6_col6, #T_701b4_row7_col7, #T_701b4_row8_col8 {\n",
       "  background-color: #b40426;\n",
       "  color: #f1f1f1;\n",
       "}\n",
       "#T_701b4_row0_col1, #T_701b4_row4_col3 {\n",
       "  background-color: #f7b396;\n",
       "  color: #000000;\n",
       "}\n",
       "#T_701b4_row0_col2 {\n",
       "  background-color: #5470de;\n",
       "  color: #f1f1f1;\n",
       "}\n",
       "#T_701b4_row0_col3, #T_701b4_row1_col0, #T_701b4_row1_col4, #T_701b4_row3_col0 {\n",
       "  background-color: #f7af91;\n",
       "  color: #000000;\n",
       "}\n",
       "#T_701b4_row0_col4, #T_701b4_row4_col8 {\n",
       "  background-color: #e3d9d3;\n",
       "  color: #000000;\n",
       "}\n",
       "#T_701b4_row0_col5 {\n",
       "  background-color: #f4c5ad;\n",
       "  color: #000000;\n",
       "}\n",
       "#T_701b4_row0_col6, #T_701b4_row3_col6 {\n",
       "  background-color: #779af7;\n",
       "  color: #f1f1f1;\n",
       "}\n",
       "#T_701b4_row0_col7 {\n",
       "  background-color: #4a63d3;\n",
       "  color: #f1f1f1;\n",
       "}\n",
       "#T_701b4_row0_col8 {\n",
       "  background-color: #f6bda2;\n",
       "  color: #000000;\n",
       "}\n",
       "#T_701b4_row1_col2 {\n",
       "  background-color: #5572df;\n",
       "  color: #f1f1f1;\n",
       "}\n",
       "#T_701b4_row1_col3 {\n",
       "  background-color: #de614d;\n",
       "  color: #f1f1f1;\n",
       "}\n",
       "#T_701b4_row1_col5 {\n",
       "  background-color: #e16751;\n",
       "  color: #f1f1f1;\n",
       "}\n",
       "#T_701b4_row1_col6 {\n",
       "  background-color: #82a6fb;\n",
       "  color: #f1f1f1;\n",
       "}\n",
       "#T_701b4_row1_col7 {\n",
       "  background-color: #4f69d9;\n",
       "  color: #f1f1f1;\n",
       "}\n",
       "#T_701b4_row1_col8, #T_701b4_row4_col5 {\n",
       "  background-color: #f7b89c;\n",
       "  color: #000000;\n",
       "}\n",
       "#T_701b4_row2_col0 {\n",
       "  background-color: #a2c1ff;\n",
       "  color: #000000;\n",
       "}\n",
       "#T_701b4_row2_col1 {\n",
       "  background-color: #9abbff;\n",
       "  color: #000000;\n",
       "}\n",
       "#T_701b4_row2_col3 {\n",
       "  background-color: #90b2fe;\n",
       "  color: #000000;\n",
       "}\n",
       "#T_701b4_row2_col4 {\n",
       "  background-color: #6687ed;\n",
       "  color: #f1f1f1;\n",
       "}\n",
       "#T_701b4_row2_col5 {\n",
       "  background-color: #8caffe;\n",
       "  color: #000000;\n",
       "}\n",
       "#T_701b4_row2_col6 {\n",
       "  background-color: #bfd3f6;\n",
       "  color: #000000;\n",
       "}\n",
       "#T_701b4_row2_col7 {\n",
       "  background-color: #5a78e4;\n",
       "  color: #f1f1f1;\n",
       "}\n",
       "#T_701b4_row2_col8 {\n",
       "  background-color: #d3dbe7;\n",
       "  color: #000000;\n",
       "}\n",
       "#T_701b4_row3_col1 {\n",
       "  background-color: #df634e;\n",
       "  color: #f1f1f1;\n",
       "}\n",
       "#T_701b4_row3_col2 {\n",
       "  background-color: #3e51c5;\n",
       "  color: #f1f1f1;\n",
       "}\n",
       "#T_701b4_row3_col4, #T_701b4_row5_col4 {\n",
       "  background-color: #f2c9b4;\n",
       "  color: #000000;\n",
       "}\n",
       "#T_701b4_row3_col5 {\n",
       "  background-color: #dc5d4a;\n",
       "  color: #f1f1f1;\n",
       "}\n",
       "#T_701b4_row3_col7, #T_701b4_row5_col2 {\n",
       "  background-color: #4b64d5;\n",
       "  color: #f1f1f1;\n",
       "}\n",
       "#T_701b4_row3_col8 {\n",
       "  background-color: #f7b194;\n",
       "  color: #000000;\n",
       "}\n",
       "#T_701b4_row4_col0 {\n",
       "  background-color: #f4c6af;\n",
       "  color: #000000;\n",
       "}\n",
       "#T_701b4_row4_col1 {\n",
       "  background-color: #f59d7e;\n",
       "  color: #000000;\n",
       "}\n",
       "#T_701b4_row4_col2 {\n",
       "  background-color: #516ddb;\n",
       "  color: #f1f1f1;\n",
       "}\n",
       "#T_701b4_row4_col6 {\n",
       "  background-color: #aec9fc;\n",
       "  color: #000000;\n",
       "}\n",
       "#T_701b4_row4_col7 {\n",
       "  background-color: #6a8bef;\n",
       "  color: #f1f1f1;\n",
       "}\n",
       "#T_701b4_row5_col0 {\n",
       "  background-color: #f6bea4;\n",
       "  color: #000000;\n",
       "}\n",
       "#T_701b4_row5_col1 {\n",
       "  background-color: #e0654f;\n",
       "  color: #f1f1f1;\n",
       "}\n",
       "#T_701b4_row5_col3 {\n",
       "  background-color: #d95847;\n",
       "  color: #f1f1f1;\n",
       "}\n",
       "#T_701b4_row5_col6 {\n",
       "  background-color: #86a9fc;\n",
       "  color: #f1f1f1;\n",
       "}\n",
       "#T_701b4_row5_col7 {\n",
       "  background-color: #5875e1;\n",
       "  color: #f1f1f1;\n",
       "}\n",
       "#T_701b4_row5_col8 {\n",
       "  background-color: #f6bfa6;\n",
       "  color: #000000;\n",
       "}\n",
       "#T_701b4_row6_col0, #T_701b4_row6_col1, #T_701b4_row6_col3, #T_701b4_row6_col4, #T_701b4_row6_col5, #T_701b4_row6_col8, #T_701b4_row7_col2, #T_701b4_row8_col6, #T_701b4_row8_col7 {\n",
       "  background-color: #3b4cc0;\n",
       "  color: #f1f1f1;\n",
       "}\n",
       "#T_701b4_row6_col2 {\n",
       "  background-color: #3c4ec2;\n",
       "  color: #f1f1f1;\n",
       "}\n",
       "#T_701b4_row6_col7 {\n",
       "  background-color: #a9c6fd;\n",
       "  color: #000000;\n",
       "}\n",
       "#T_701b4_row7_col0, #T_701b4_row7_col3 {\n",
       "  background-color: #7da0f9;\n",
       "  color: #f1f1f1;\n",
       "}\n",
       "#T_701b4_row7_col1 {\n",
       "  background-color: #7699f6;\n",
       "  color: #f1f1f1;\n",
       "}\n",
       "#T_701b4_row7_col4 {\n",
       "  background-color: #5e7de7;\n",
       "  color: #f1f1f1;\n",
       "}\n",
       "#T_701b4_row7_col5 {\n",
       "  background-color: #7a9df8;\n",
       "  color: #f1f1f1;\n",
       "}\n",
       "#T_701b4_row7_col6 {\n",
       "  background-color: #e8d6cc;\n",
       "  color: #000000;\n",
       "}\n",
       "#T_701b4_row7_col8 {\n",
       "  background-color: #a5c3fe;\n",
       "  color: #000000;\n",
       "}\n",
       "#T_701b4_row8_col0, #T_701b4_row8_col1 {\n",
       "  background-color: #edd1c2;\n",
       "  color: #000000;\n",
       "}\n",
       "#T_701b4_row8_col2 {\n",
       "  background-color: #5f7fe8;\n",
       "  color: #f1f1f1;\n",
       "}\n",
       "#T_701b4_row8_col3 {\n",
       "  background-color: #f3c8b2;\n",
       "  color: #000000;\n",
       "}\n",
       "#T_701b4_row8_col4 {\n",
       "  background-color: #94b6ff;\n",
       "  color: #000000;\n",
       "}\n",
       "#T_701b4_row8_col5 {\n",
       "  background-color: #e5d8d1;\n",
       "  color: #000000;\n",
       "}\n",
       "</style>\n",
       "<table id=\"T_701b4\">\n",
       "  <thead>\n",
       "    <tr>\n",
       "      <th class=\"blank level0\" >&nbsp;</th>\n",
       "      <th id=\"T_701b4_level0_col0\" class=\"col_heading level0 col0\" >price</th>\n",
       "      <th id=\"T_701b4_level0_col1\" class=\"col_heading level0 col1\" >bedrooms</th>\n",
       "      <th id=\"T_701b4_level0_col2\" class=\"col_heading level0 col2\" >minimum_nights</th>\n",
       "      <th id=\"T_701b4_level0_col3\" class=\"col_heading level0 col3\" >accommodates</th>\n",
       "      <th id=\"T_701b4_level0_col4\" class=\"col_heading level0 col4\" >bathrooms</th>\n",
       "      <th id=\"T_701b4_level0_col5\" class=\"col_heading level0 col5\" >beds</th>\n",
       "      <th id=\"T_701b4_level0_col6\" class=\"col_heading level0 col6\" >Shared_bathroom</th>\n",
       "      <th id=\"T_701b4_level0_col7\" class=\"col_heading level0 col7\" >shared_room</th>\n",
       "      <th id=\"T_701b4_level0_col8\" class=\"col_heading level0 col8\" >entire_property</th>\n",
       "    </tr>\n",
       "  </thead>\n",
       "  <tbody>\n",
       "    <tr>\n",
       "      <th id=\"T_701b4_level0_row0\" class=\"row_heading level0 row0\" >price</th>\n",
       "      <td id=\"T_701b4_row0_col0\" class=\"data row0 col0\" >1.000000</td>\n",
       "      <td id=\"T_701b4_row0_col1\" class=\"data row0 col1\" >0.579119</td>\n",
       "      <td id=\"T_701b4_row0_col2\" class=\"data row0 col2\" >0.049166</td>\n",
       "      <td id=\"T_701b4_row0_col3\" class=\"data row0 col3\" >0.576347</td>\n",
       "      <td id=\"T_701b4_row0_col4\" class=\"data row0 col4\" >0.473075</td>\n",
       "      <td id=\"T_701b4_row0_col5\" class=\"data row0 col5\" >0.509734</td>\n",
       "      <td id=\"T_701b4_row0_col6\" class=\"data row0 col6\" >-0.381311</td>\n",
       "      <td id=\"T_701b4_row0_col7\" class=\"data row0 col7\" >-0.096783</td>\n",
       "      <td id=\"T_701b4_row0_col8\" class=\"data row0 col8\" >0.406473</td>\n",
       "    </tr>\n",
       "    <tr>\n",
       "      <th id=\"T_701b4_level0_row1\" class=\"row_heading level0 row1\" >bedrooms</th>\n",
       "      <td id=\"T_701b4_row1_col0\" class=\"data row1 col0\" >0.579119</td>\n",
       "      <td id=\"T_701b4_row1_col1\" class=\"data row1 col1\" >1.000000</td>\n",
       "      <td id=\"T_701b4_row1_col2\" class=\"data row1 col2\" >0.053959</td>\n",
       "      <td id=\"T_701b4_row1_col3\" class=\"data row1 col3\" >0.824989</td>\n",
       "      <td id=\"T_701b4_row1_col4\" class=\"data row1 col4\" >0.658622</td>\n",
       "      <td id=\"T_701b4_row1_col5\" class=\"data row1 col5\" >0.819764</td>\n",
       "      <td id=\"T_701b4_row1_col6\" class=\"data row1 col6\" >-0.323853</td>\n",
       "      <td id=\"T_701b4_row1_col7\" class=\"data row1 col7\" >-0.078869</td>\n",
       "      <td id=\"T_701b4_row1_col8\" class=\"data row1 col8\" >0.433250</td>\n",
       "    </tr>\n",
       "    <tr>\n",
       "      <th id=\"T_701b4_level0_row2\" class=\"row_heading level0 row2\" >minimum_nights</th>\n",
       "      <td id=\"T_701b4_row2_col0\" class=\"data row2 col0\" >0.049166</td>\n",
       "      <td id=\"T_701b4_row2_col1\" class=\"data row2 col1\" >0.053959</td>\n",
       "      <td id=\"T_701b4_row2_col2\" class=\"data row2 col2\" >1.000000</td>\n",
       "      <td id=\"T_701b4_row2_col3\" class=\"data row2 col3\" >-0.021236</td>\n",
       "      <td id=\"T_701b4_row2_col4\" class=\"data row2 col4\" >0.040548</td>\n",
       "      <td id=\"T_701b4_row2_col5\" class=\"data row2 col5\" >0.020709</td>\n",
       "      <td id=\"T_701b4_row2_col6\" class=\"data row2 col6\" >-0.030195</td>\n",
       "      <td id=\"T_701b4_row2_col7\" class=\"data row2 col7\" >-0.037196</td>\n",
       "      <td id=\"T_701b4_row2_col8\" class=\"data row2 col8\" >0.087394</td>\n",
       "    </tr>\n",
       "    <tr>\n",
       "      <th id=\"T_701b4_level0_row3\" class=\"row_heading level0 row3\" >accommodates</th>\n",
       "      <td id=\"T_701b4_row3_col0\" class=\"data row3 col0\" >0.576347</td>\n",
       "      <td id=\"T_701b4_row3_col1\" class=\"data row3 col1\" >0.824989</td>\n",
       "      <td id=\"T_701b4_row3_col2\" class=\"data row3 col2\" >-0.021236</td>\n",
       "      <td id=\"T_701b4_row3_col3\" class=\"data row3 col3\" >1.000000</td>\n",
       "      <td id=\"T_701b4_row3_col4\" class=\"data row3 col4\" >0.562807</td>\n",
       "      <td id=\"T_701b4_row3_col5\" class=\"data row3 col5\" >0.844857</td>\n",
       "      <td id=\"T_701b4_row3_col6\" class=\"data row3 col6\" >-0.376987</td>\n",
       "      <td id=\"T_701b4_row3_col7\" class=\"data row3 col7\" >-0.091959</td>\n",
       "      <td id=\"T_701b4_row3_col8\" class=\"data row3 col8\" >0.466074</td>\n",
       "    </tr>\n",
       "    <tr>\n",
       "      <th id=\"T_701b4_level0_row4\" class=\"row_heading level0 row4\" >bathrooms</th>\n",
       "      <td id=\"T_701b4_row4_col0\" class=\"data row4 col0\" >0.473075</td>\n",
       "      <td id=\"T_701b4_row4_col1\" class=\"data row4 col1\" >0.658622</td>\n",
       "      <td id=\"T_701b4_row4_col2\" class=\"data row4 col2\" >0.040548</td>\n",
       "      <td id=\"T_701b4_row4_col3\" class=\"data row4 col3\" >0.562807</td>\n",
       "      <td id=\"T_701b4_row4_col4\" class=\"data row4 col4\" >1.000000</td>\n",
       "      <td id=\"T_701b4_row4_col5\" class=\"data row4 col5\" >0.564843</td>\n",
       "      <td id=\"T_701b4_row4_col6\" class=\"data row4 col6\" >-0.112118</td>\n",
       "      <td id=\"T_701b4_row4_col7\" class=\"data row4 col7\" >0.015528</td>\n",
       "      <td id=\"T_701b4_row4_col8\" class=\"data row4 col8\" >0.188962</td>\n",
       "    </tr>\n",
       "    <tr>\n",
       "      <th id=\"T_701b4_level0_row5\" class=\"row_heading level0 row5\" >beds</th>\n",
       "      <td id=\"T_701b4_row5_col0\" class=\"data row5 col0\" >0.509734</td>\n",
       "      <td id=\"T_701b4_row5_col1\" class=\"data row5 col1\" >0.819764</td>\n",
       "      <td id=\"T_701b4_row5_col2\" class=\"data row5 col2\" >0.020709</td>\n",
       "      <td id=\"T_701b4_row5_col3\" class=\"data row5 col3\" >0.844857</td>\n",
       "      <td id=\"T_701b4_row5_col4\" class=\"data row5 col4\" >0.564843</td>\n",
       "      <td id=\"T_701b4_row5_col5\" class=\"data row5 col5\" >1.000000</td>\n",
       "      <td id=\"T_701b4_row5_col6\" class=\"data row5 col6\" >-0.304966</td>\n",
       "      <td id=\"T_701b4_row5_col7\" class=\"data row5 col7\" >-0.047086</td>\n",
       "      <td id=\"T_701b4_row5_col8\" class=\"data row5 col8\" >0.392410</td>\n",
       "    </tr>\n",
       "    <tr>\n",
       "      <th id=\"T_701b4_level0_row6\" class=\"row_heading level0 row6\" >Shared_bathroom</th>\n",
       "      <td id=\"T_701b4_row6_col0\" class=\"data row6 col0\" >-0.381311</td>\n",
       "      <td id=\"T_701b4_row6_col1\" class=\"data row6 col1\" >-0.323853</td>\n",
       "      <td id=\"T_701b4_row6_col2\" class=\"data row6 col2\" >-0.030195</td>\n",
       "      <td id=\"T_701b4_row6_col3\" class=\"data row6 col3\" >-0.376987</td>\n",
       "      <td id=\"T_701b4_row6_col4\" class=\"data row6 col4\" >-0.112118</td>\n",
       "      <td id=\"T_701b4_row6_col5\" class=\"data row6 col5\" >-0.304966</td>\n",
       "      <td id=\"T_701b4_row6_col6\" class=\"data row6 col6\" >1.000000</td>\n",
       "      <td id=\"T_701b4_row6_col7\" class=\"data row6 col7\" >0.223648</td>\n",
       "      <td id=\"T_701b4_row6_col8\" class=\"data row6 col8\" >-0.702776</td>\n",
       "    </tr>\n",
       "    <tr>\n",
       "      <th id=\"T_701b4_level0_row7\" class=\"row_heading level0 row7\" >shared_room</th>\n",
       "      <td id=\"T_701b4_row7_col0\" class=\"data row7 col0\" >-0.096783</td>\n",
       "      <td id=\"T_701b4_row7_col1\" class=\"data row7 col1\" >-0.078869</td>\n",
       "      <td id=\"T_701b4_row7_col2\" class=\"data row7 col2\" >-0.037196</td>\n",
       "      <td id=\"T_701b4_row7_col3\" class=\"data row7 col3\" >-0.091959</td>\n",
       "      <td id=\"T_701b4_row7_col4\" class=\"data row7 col4\" >0.015528</td>\n",
       "      <td id=\"T_701b4_row7_col5\" class=\"data row7 col5\" >-0.047086</td>\n",
       "      <td id=\"T_701b4_row7_col6\" class=\"data row7 col6\" >0.223648</td>\n",
       "      <td id=\"T_701b4_row7_col7\" class=\"data row7 col7\" >1.000000</td>\n",
       "      <td id=\"T_701b4_row7_col8\" class=\"data row7 col8\" >-0.158264</td>\n",
       "    </tr>\n",
       "    <tr>\n",
       "      <th id=\"T_701b4_level0_row8\" class=\"row_heading level0 row8\" >entire_property</th>\n",
       "      <td id=\"T_701b4_row8_col0\" class=\"data row8 col0\" >0.406473</td>\n",
       "      <td id=\"T_701b4_row8_col1\" class=\"data row8 col1\" >0.433250</td>\n",
       "      <td id=\"T_701b4_row8_col2\" class=\"data row8 col2\" >0.087394</td>\n",
       "      <td id=\"T_701b4_row8_col3\" class=\"data row8 col3\" >0.466074</td>\n",
       "      <td id=\"T_701b4_row8_col4\" class=\"data row8 col4\" >0.188962</td>\n",
       "      <td id=\"T_701b4_row8_col5\" class=\"data row8 col5\" >0.392410</td>\n",
       "      <td id=\"T_701b4_row8_col6\" class=\"data row8 col6\" >-0.702776</td>\n",
       "      <td id=\"T_701b4_row8_col7\" class=\"data row8 col7\" >-0.158264</td>\n",
       "      <td id=\"T_701b4_row8_col8\" class=\"data row8 col8\" >1.000000</td>\n",
       "    </tr>\n",
       "  </tbody>\n",
       "</table>\n"
      ],
      "text/plain": [
       "<pandas.io.formats.style.Styler at 0x7fd773ad1ee0>"
      ]
     },
     "execution_count": 20,
     "metadata": {},
     "output_type": "execute_result"
    }
   ],
   "source": [
    "info_Corr_listings = df_final_clean[['price', 'bedrooms', 'minimum_nights',\n",
    "                                        'accommodates', 'bathrooms','beds','Shared_bathroom','shared_room',\n",
    "                                    'entire_property']]\n",
    "\n",
    "corr = info_Corr_listings.corr()\n",
    "corr.style.background_gradient(cmap='coolwarm')"
   ]
  },
  {
   "cell_type": "markdown",
   "id": "81cce59e",
   "metadata": {},
   "source": [
    "Numeric Listing variables: bedrooms, bathrooms, people accomodates , although too correlated with bedrooms and beds and accomodates - I would just use accomodates.\n",
    "\n",
    "Final variables: bathrooms, accomodates, Shared_bathroom,shared_room,entire_property,bedrooms"
   ]
  },
  {
   "cell_type": "code",
   "execution_count": 21,
   "id": "0626f98c",
   "metadata": {},
   "outputs": [
    {
     "data": {
      "text/html": [
       "<style type=\"text/css\">\n",
       "#T_2ad45_row0_col0, #T_2ad45_row1_col1, #T_2ad45_row2_col2, #T_2ad45_row3_col3, #T_2ad45_row4_col4, #T_2ad45_row5_col5, #T_2ad45_row6_col6, #T_2ad45_row7_col7 {\n",
       "  background-color: #b40426;\n",
       "  color: #f1f1f1;\n",
       "}\n",
       "#T_2ad45_row0_col1, #T_2ad45_row0_col2, #T_2ad45_row0_col3, #T_2ad45_row0_col4, #T_2ad45_row0_col5, #T_2ad45_row0_col7, #T_2ad45_row1_col0, #T_2ad45_row1_col6 {\n",
       "  background-color: #3b4cc0;\n",
       "  color: #f1f1f1;\n",
       "}\n",
       "#T_2ad45_row0_col6, #T_2ad45_row7_col0 {\n",
       "  background-color: #4c66d6;\n",
       "  color: #f1f1f1;\n",
       "}\n",
       "#T_2ad45_row1_col2 {\n",
       "  background-color: #4a63d3;\n",
       "  color: #f1f1f1;\n",
       "}\n",
       "#T_2ad45_row1_col3 {\n",
       "  background-color: #5673e0;\n",
       "  color: #f1f1f1;\n",
       "}\n",
       "#T_2ad45_row1_col4 {\n",
       "  background-color: #4961d2;\n",
       "  color: #f1f1f1;\n",
       "}\n",
       "#T_2ad45_row1_col5 {\n",
       "  background-color: #5572df;\n",
       "  color: #f1f1f1;\n",
       "}\n",
       "#T_2ad45_row1_col7, #T_2ad45_row2_col0 {\n",
       "  background-color: #6384eb;\n",
       "  color: #f1f1f1;\n",
       "}\n",
       "#T_2ad45_row2_col1 {\n",
       "  background-color: #7396f5;\n",
       "  color: #f1f1f1;\n",
       "}\n",
       "#T_2ad45_row2_col3 {\n",
       "  background-color: #f59d7e;\n",
       "  color: #000000;\n",
       "}\n",
       "#T_2ad45_row2_col4, #T_2ad45_row2_col5, #T_2ad45_row4_col2, #T_2ad45_row5_col3 {\n",
       "  background-color: #ee8468;\n",
       "  color: #f1f1f1;\n",
       "}\n",
       "#T_2ad45_row2_col6 {\n",
       "  background-color: #f5c4ac;\n",
       "  color: #000000;\n",
       "}\n",
       "#T_2ad45_row2_col7 {\n",
       "  background-color: #e0654f;\n",
       "  color: #f1f1f1;\n",
       "}\n",
       "#T_2ad45_row3_col0 {\n",
       "  background-color: #5977e3;\n",
       "  color: #f1f1f1;\n",
       "}\n",
       "#T_2ad45_row3_col1 {\n",
       "  background-color: #7597f6;\n",
       "  color: #f1f1f1;\n",
       "}\n",
       "#T_2ad45_row3_col2, #T_2ad45_row7_col4 {\n",
       "  background-color: #f5a081;\n",
       "  color: #000000;\n",
       "}\n",
       "#T_2ad45_row3_col4 {\n",
       "  background-color: #f3c8b2;\n",
       "  color: #000000;\n",
       "}\n",
       "#T_2ad45_row3_col5 {\n",
       "  background-color: #ed8366;\n",
       "  color: #f1f1f1;\n",
       "}\n",
       "#T_2ad45_row3_col6 {\n",
       "  background-color: #ead5c9;\n",
       "  color: #000000;\n",
       "}\n",
       "#T_2ad45_row3_col7 {\n",
       "  background-color: #f7ac8e;\n",
       "  color: #000000;\n",
       "}\n",
       "#T_2ad45_row4_col0 {\n",
       "  background-color: #6788ee;\n",
       "  color: #f1f1f1;\n",
       "}\n",
       "#T_2ad45_row4_col1, #T_2ad45_row7_col1 {\n",
       "  background-color: #7699f6;\n",
       "  color: #f1f1f1;\n",
       "}\n",
       "#T_2ad45_row4_col3 {\n",
       "  background-color: #f5c2aa;\n",
       "  color: #000000;\n",
       "}\n",
       "#T_2ad45_row4_col5 {\n",
       "  background-color: #f7b89c;\n",
       "  color: #000000;\n",
       "}\n",
       "#T_2ad45_row4_col6 {\n",
       "  background-color: #e2dad5;\n",
       "  color: #000000;\n",
       "}\n",
       "#T_2ad45_row4_col7 {\n",
       "  background-color: #f39778;\n",
       "  color: #000000;\n",
       "}\n",
       "#T_2ad45_row5_col0 {\n",
       "  background-color: #5875e1;\n",
       "  color: #f1f1f1;\n",
       "}\n",
       "#T_2ad45_row5_col1 {\n",
       "  background-color: #7295f4;\n",
       "  color: #f1f1f1;\n",
       "}\n",
       "#T_2ad45_row5_col2 {\n",
       "  background-color: #ef886b;\n",
       "  color: #f1f1f1;\n",
       "}\n",
       "#T_2ad45_row5_col4 {\n",
       "  background-color: #f6bda2;\n",
       "  color: #000000;\n",
       "}\n",
       "#T_2ad45_row5_col6, #T_2ad45_row6_col3 {\n",
       "  background-color: #efcfbf;\n",
       "  color: #000000;\n",
       "}\n",
       "#T_2ad45_row5_col7 {\n",
       "  background-color: #f39577;\n",
       "  color: #000000;\n",
       "}\n",
       "#T_2ad45_row6_col0 {\n",
       "  background-color: #7b9ff9;\n",
       "  color: #f1f1f1;\n",
       "}\n",
       "#T_2ad45_row6_col1 {\n",
       "  background-color: #6b8df0;\n",
       "  color: #f1f1f1;\n",
       "}\n",
       "#T_2ad45_row6_col2 {\n",
       "  background-color: #f5c1a9;\n",
       "  color: #000000;\n",
       "}\n",
       "#T_2ad45_row6_col4 {\n",
       "  background-color: #e3d9d3;\n",
       "  color: #000000;\n",
       "}\n",
       "#T_2ad45_row6_col5 {\n",
       "  background-color: #f2c9b4;\n",
       "  color: #000000;\n",
       "}\n",
       "#T_2ad45_row6_col7 {\n",
       "  background-color: #f7b599;\n",
       "  color: #000000;\n",
       "}\n",
       "#T_2ad45_row7_col2 {\n",
       "  background-color: #e36b54;\n",
       "  color: #f1f1f1;\n",
       "}\n",
       "#T_2ad45_row7_col3 {\n",
       "  background-color: #f7b093;\n",
       "  color: #000000;\n",
       "}\n",
       "#T_2ad45_row7_col5 {\n",
       "  background-color: #f4987a;\n",
       "  color: #000000;\n",
       "}\n",
       "#T_2ad45_row7_col6 {\n",
       "  background-color: #f5c0a7;\n",
       "  color: #000000;\n",
       "}\n",
       "</style>\n",
       "<table id=\"T_2ad45\">\n",
       "  <thead>\n",
       "    <tr>\n",
       "      <th class=\"blank level0\" >&nbsp;</th>\n",
       "      <th id=\"T_2ad45_level0_col0\" class=\"col_heading level0 col0\" >price</th>\n",
       "      <th id=\"T_2ad45_level0_col1\" class=\"col_heading level0 col1\" >number_of_reviews</th>\n",
       "      <th id=\"T_2ad45_level0_col2\" class=\"col_heading level0 col2\" >review_scores_rating</th>\n",
       "      <th id=\"T_2ad45_level0_col3\" class=\"col_heading level0 col3\" >review_scores_checkin</th>\n",
       "      <th id=\"T_2ad45_level0_col4\" class=\"col_heading level0 col4\" >review_scores_cleanliness</th>\n",
       "      <th id=\"T_2ad45_level0_col5\" class=\"col_heading level0 col5\" >review_scores_communication</th>\n",
       "      <th id=\"T_2ad45_level0_col6\" class=\"col_heading level0 col6\" >review_scores_location</th>\n",
       "      <th id=\"T_2ad45_level0_col7\" class=\"col_heading level0 col7\" >review_scores_value</th>\n",
       "    </tr>\n",
       "  </thead>\n",
       "  <tbody>\n",
       "    <tr>\n",
       "      <th id=\"T_2ad45_level0_row0\" class=\"row_heading level0 row0\" >price</th>\n",
       "      <td id=\"T_2ad45_row0_col0\" class=\"data row0 col0\" >1.000000</td>\n",
       "      <td id=\"T_2ad45_row0_col1\" class=\"data row0 col1\" >-0.089352</td>\n",
       "      <td id=\"T_2ad45_row0_col2\" class=\"data row0 col2\" >0.054912</td>\n",
       "      <td id=\"T_2ad45_row0_col3\" class=\"data row0 col3\" >0.019417</td>\n",
       "      <td id=\"T_2ad45_row0_col4\" class=\"data row0 col4\" >0.065303</td>\n",
       "      <td id=\"T_2ad45_row0_col5\" class=\"data row0 col5\" >0.015597</td>\n",
       "      <td id=\"T_2ad45_row0_col6\" class=\"data row0 col6\" >0.130916</td>\n",
       "      <td id=\"T_2ad45_row0_col7\" class=\"data row0 col7\" >-0.022068</td>\n",
       "    </tr>\n",
       "    <tr>\n",
       "      <th id=\"T_2ad45_level0_row1\" class=\"row_heading level0 row1\" >number_of_reviews</th>\n",
       "      <td id=\"T_2ad45_row1_col0\" class=\"data row1 col0\" >-0.089352</td>\n",
       "      <td id=\"T_2ad45_row1_col1\" class=\"data row1 col1\" >1.000000</td>\n",
       "      <td id=\"T_2ad45_row1_col2\" class=\"data row1 col2\" >0.103179</td>\n",
       "      <td id=\"T_2ad45_row1_col3\" class=\"data row1 col3\" >0.109621</td>\n",
       "      <td id=\"T_2ad45_row1_col4\" class=\"data row1 col4\" >0.111586</td>\n",
       "      <td id=\"T_2ad45_row1_col5\" class=\"data row1 col5\" >0.101975</td>\n",
       "      <td id=\"T_2ad45_row1_col6\" class=\"data row1 col6\" >0.076714</td>\n",
       "      <td id=\"T_2ad45_row1_col7\" class=\"data row1 col7\" >0.112270</td>\n",
       "    </tr>\n",
       "    <tr>\n",
       "      <th id=\"T_2ad45_level0_row2\" class=\"row_heading level0 row2\" >review_scores_rating</th>\n",
       "      <td id=\"T_2ad45_row2_col0\" class=\"data row2 col0\" >0.054912</td>\n",
       "      <td id=\"T_2ad45_row2_col1\" class=\"data row2 col1\" >0.103179</td>\n",
       "      <td id=\"T_2ad45_row2_col2\" class=\"data row2 col2\" >1.000000</td>\n",
       "      <td id=\"T_2ad45_row2_col3\" class=\"data row2 col3\" >0.746762</td>\n",
       "      <td id=\"T_2ad45_row2_col4\" class=\"data row2 col4\" >0.810910</td>\n",
       "      <td id=\"T_2ad45_row2_col5\" class=\"data row2 col5\" >0.803818</td>\n",
       "      <td id=\"T_2ad45_row2_col6\" class=\"data row2 col6\" >0.653813</td>\n",
       "      <td id=\"T_2ad45_row2_col7\" class=\"data row2 col7\" >0.862492</td>\n",
       "    </tr>\n",
       "    <tr>\n",
       "      <th id=\"T_2ad45_level0_row3\" class=\"row_heading level0 row3\" >review_scores_checkin</th>\n",
       "      <td id=\"T_2ad45_row3_col0\" class=\"data row3 col0\" >0.019417</td>\n",
       "      <td id=\"T_2ad45_row3_col1\" class=\"data row3 col1\" >0.109621</td>\n",
       "      <td id=\"T_2ad45_row3_col2\" class=\"data row3 col2\" >0.746762</td>\n",
       "      <td id=\"T_2ad45_row3_col3\" class=\"data row3 col3\" >1.000000</td>\n",
       "      <td id=\"T_2ad45_row3_col4\" class=\"data row3 col4\" >0.636277</td>\n",
       "      <td id=\"T_2ad45_row3_col5\" class=\"data row3 col5\" >0.803934</td>\n",
       "      <td id=\"T_2ad45_row3_col6\" class=\"data row3 col6\" >0.586963</td>\n",
       "      <td id=\"T_2ad45_row3_col7\" class=\"data row3 col7\" >0.696406</td>\n",
       "    </tr>\n",
       "    <tr>\n",
       "      <th id=\"T_2ad45_level0_row4\" class=\"row_heading level0 row4\" >review_scores_cleanliness</th>\n",
       "      <td id=\"T_2ad45_row4_col0\" class=\"data row4 col0\" >0.065303</td>\n",
       "      <td id=\"T_2ad45_row4_col1\" class=\"data row4 col1\" >0.111586</td>\n",
       "      <td id=\"T_2ad45_row4_col2\" class=\"data row4 col2\" >0.810910</td>\n",
       "      <td id=\"T_2ad45_row4_col3\" class=\"data row4 col3\" >0.636277</td>\n",
       "      <td id=\"T_2ad45_row4_col4\" class=\"data row4 col4\" >1.000000</td>\n",
       "      <td id=\"T_2ad45_row4_col5\" class=\"data row4 col5\" >0.672204</td>\n",
       "      <td id=\"T_2ad45_row4_col6\" class=\"data row4 col6\" >0.557170</td>\n",
       "      <td id=\"T_2ad45_row4_col7\" class=\"data row4 col7\" >0.749522</td>\n",
       "    </tr>\n",
       "    <tr>\n",
       "      <th id=\"T_2ad45_level0_row5\" class=\"row_heading level0 row5\" >review_scores_communication</th>\n",
       "      <td id=\"T_2ad45_row5_col0\" class=\"data row5 col0\" >0.015597</td>\n",
       "      <td id=\"T_2ad45_row5_col1\" class=\"data row5 col1\" >0.101975</td>\n",
       "      <td id=\"T_2ad45_row5_col2\" class=\"data row5 col2\" >0.803818</td>\n",
       "      <td id=\"T_2ad45_row5_col3\" class=\"data row5 col3\" >0.803934</td>\n",
       "      <td id=\"T_2ad45_row5_col4\" class=\"data row5 col4\" >0.672204</td>\n",
       "      <td id=\"T_2ad45_row5_col5\" class=\"data row5 col5\" >1.000000</td>\n",
       "      <td id=\"T_2ad45_row5_col6\" class=\"data row5 col6\" >0.612197</td>\n",
       "      <td id=\"T_2ad45_row5_col7\" class=\"data row5 col7\" >0.754843</td>\n",
       "    </tr>\n",
       "    <tr>\n",
       "      <th id=\"T_2ad45_level0_row6\" class=\"row_heading level0 row6\" >review_scores_location</th>\n",
       "      <td id=\"T_2ad45_row6_col0\" class=\"data row6 col0\" >0.130916</td>\n",
       "      <td id=\"T_2ad45_row6_col1\" class=\"data row6 col1\" >0.076714</td>\n",
       "      <td id=\"T_2ad45_row6_col2\" class=\"data row6 col2\" >0.653813</td>\n",
       "      <td id=\"T_2ad45_row6_col3\" class=\"data row6 col3\" >0.586963</td>\n",
       "      <td id=\"T_2ad45_row6_col4\" class=\"data row6 col4\" >0.557170</td>\n",
       "      <td id=\"T_2ad45_row6_col5\" class=\"data row6 col5\" >0.612197</td>\n",
       "      <td id=\"T_2ad45_row6_col6\" class=\"data row6 col6\" >1.000000</td>\n",
       "      <td id=\"T_2ad45_row6_col7\" class=\"data row6 col7\" >0.665232</td>\n",
       "    </tr>\n",
       "    <tr>\n",
       "      <th id=\"T_2ad45_level0_row7\" class=\"row_heading level0 row7\" >review_scores_value</th>\n",
       "      <td id=\"T_2ad45_row7_col0\" class=\"data row7 col0\" >-0.022068</td>\n",
       "      <td id=\"T_2ad45_row7_col1\" class=\"data row7 col1\" >0.112270</td>\n",
       "      <td id=\"T_2ad45_row7_col2\" class=\"data row7 col2\" >0.862492</td>\n",
       "      <td id=\"T_2ad45_row7_col3\" class=\"data row7 col3\" >0.696406</td>\n",
       "      <td id=\"T_2ad45_row7_col4\" class=\"data row7 col4\" >0.749522</td>\n",
       "      <td id=\"T_2ad45_row7_col5\" class=\"data row7 col5\" >0.754843</td>\n",
       "      <td id=\"T_2ad45_row7_col6\" class=\"data row7 col6\" >0.665232</td>\n",
       "      <td id=\"T_2ad45_row7_col7\" class=\"data row7 col7\" >1.000000</td>\n",
       "    </tr>\n",
       "  </tbody>\n",
       "</table>\n"
      ],
      "text/plain": [
       "<pandas.io.formats.style.Styler at 0x7fd730297a60>"
      ]
     },
     "execution_count": 21,
     "metadata": {},
     "output_type": "execute_result"
    }
   ],
   "source": [
    "info_Corr_reviews = df_final_clean[['price', 'number_of_reviews', \n",
    "                                          'review_scores_rating', \n",
    "                                          'review_scores_checkin' ,\n",
    "                                          'review_scores_cleanliness', \n",
    "                                          'review_scores_communication',\n",
    "                                          'review_scores_location',\n",
    "                                          'review_scores_value',\n",
    "                                          ]]\n",
    "\n",
    "corr = info_Corr_reviews.corr()\n",
    "corr.style.background_gradient(cmap='coolwarm')"
   ]
  },
  {
   "cell_type": "markdown",
   "id": "1e63b861",
   "metadata": {},
   "source": [
    "Reviews seem to be not as important as the listings with location and cleanliness the most important - location seems very important - how can we estimate how good the location is?"
   ]
  },
  {
   "cell_type": "code",
   "execution_count": 22,
   "id": "98dbaec4",
   "metadata": {},
   "outputs": [
    {
     "data": {
      "text/html": [
       "<style type=\"text/css\">\n",
       "#T_267df_row0_col0, #T_267df_row1_col1, #T_267df_row2_col2, #T_267df_row3_col3 {\n",
       "  background-color: #b40426;\n",
       "  color: #f1f1f1;\n",
       "}\n",
       "#T_267df_row0_col1 {\n",
       "  background-color: #7a9df8;\n",
       "  color: #f1f1f1;\n",
       "}\n",
       "#T_267df_row0_col2 {\n",
       "  background-color: #6180e9;\n",
       "  color: #f1f1f1;\n",
       "}\n",
       "#T_267df_row0_col3 {\n",
       "  background-color: #5673e0;\n",
       "  color: #f1f1f1;\n",
       "}\n",
       "#T_267df_row1_col0 {\n",
       "  background-color: #6485ec;\n",
       "  color: #f1f1f1;\n",
       "}\n",
       "#T_267df_row1_col2 {\n",
       "  background-color: #7597f6;\n",
       "  color: #f1f1f1;\n",
       "}\n",
       "#T_267df_row1_col3 {\n",
       "  background-color: #3f53c6;\n",
       "  color: #f1f1f1;\n",
       "}\n",
       "#T_267df_row2_col0 {\n",
       "  background-color: #445acc;\n",
       "  color: #f1f1f1;\n",
       "}\n",
       "#T_267df_row2_col1 {\n",
       "  background-color: #6e90f2;\n",
       "  color: #f1f1f1;\n",
       "}\n",
       "#T_267df_row2_col3, #T_267df_row3_col0, #T_267df_row3_col1, #T_267df_row3_col2 {\n",
       "  background-color: #3b4cc0;\n",
       "  color: #f1f1f1;\n",
       "}\n",
       "</style>\n",
       "<table id=\"T_267df\">\n",
       "  <thead>\n",
       "    <tr>\n",
       "      <th class=\"blank level0\" >&nbsp;</th>\n",
       "      <th id=\"T_267df_level0_col0\" class=\"col_heading level0 col0\" >price</th>\n",
       "      <th id=\"T_267df_level0_col1\" class=\"col_heading level0 col1\" >host_listings_count</th>\n",
       "      <th id=\"T_267df_level0_col2\" class=\"col_heading level0 col2\" >instant_bookable</th>\n",
       "      <th id=\"T_267df_level0_col3\" class=\"col_heading level0 col3\" >host_is_superhost</th>\n",
       "    </tr>\n",
       "  </thead>\n",
       "  <tbody>\n",
       "    <tr>\n",
       "      <th id=\"T_267df_level0_row0\" class=\"row_heading level0 row0\" >price</th>\n",
       "      <td id=\"T_267df_row0_col0\" class=\"data row0 col0\" >1.000000</td>\n",
       "      <td id=\"T_267df_row0_col1\" class=\"data row0 col1\" >0.151295</td>\n",
       "      <td id=\"T_267df_row0_col2\" class=\"data row0 col2\" >0.054085</td>\n",
       "      <td id=\"T_267df_row0_col3\" class=\"data row0 col3\" >0.020746</td>\n",
       "    </tr>\n",
       "    <tr>\n",
       "      <th id=\"T_267df_level0_row1\" class=\"row_heading level0 row1\" >host_listings_count</th>\n",
       "      <td id=\"T_267df_row1_col0\" class=\"data row1 col0\" >0.151295</td>\n",
       "      <td id=\"T_267df_row1_col1\" class=\"data row1 col1\" >1.000000</td>\n",
       "      <td id=\"T_267df_row1_col2\" class=\"data row1 col2\" >0.114333</td>\n",
       "      <td id=\"T_267df_row1_col3\" class=\"data row1 col3\" >-0.058850</td>\n",
       "    </tr>\n",
       "    <tr>\n",
       "      <th id=\"T_267df_level0_row2\" class=\"row_heading level0 row2\" >instant_bookable</th>\n",
       "      <td id=\"T_267df_row2_col0\" class=\"data row2 col0\" >0.054085</td>\n",
       "      <td id=\"T_267df_row2_col1\" class=\"data row2 col1\" >0.114333</td>\n",
       "      <td id=\"T_267df_row2_col2\" class=\"data row2 col2\" >1.000000</td>\n",
       "      <td id=\"T_267df_row2_col3\" class=\"data row2 col3\" >-0.079779</td>\n",
       "    </tr>\n",
       "    <tr>\n",
       "      <th id=\"T_267df_level0_row3\" class=\"row_heading level0 row3\" >host_is_superhost</th>\n",
       "      <td id=\"T_267df_row3_col0\" class=\"data row3 col0\" >0.020746</td>\n",
       "      <td id=\"T_267df_row3_col1\" class=\"data row3 col1\" >-0.058850</td>\n",
       "      <td id=\"T_267df_row3_col2\" class=\"data row3 col2\" >-0.079779</td>\n",
       "      <td id=\"T_267df_row3_col3\" class=\"data row3 col3\" >1.000000</td>\n",
       "    </tr>\n",
       "  </tbody>\n",
       "</table>\n"
      ],
      "text/plain": [
       "<pandas.io.formats.style.Styler at 0x7fd7764c70a0>"
      ]
     },
     "execution_count": 22,
     "metadata": {},
     "output_type": "execute_result"
    }
   ],
   "source": [
    "# Create some dummys\n",
    "df_final_clean['instant_bookable'] = np.where(df_final_clean['instant_bookable'] == 'f',0,1)\n",
    "df_final_clean['host_is_superhost'] = np.where(df_final_clean['host_is_superhost'] == 'f',0,1)\n",
    "info_Corr_host = df_final_clean[['price', 'host_listings_count','instant_bookable','host_is_superhost']]                                          \n",
    "\n",
    "#info_Corr_host['host_listings_count'] = info_Corr_host['host_listings_count'].astype('float')\n",
    "corr = info_Corr_host.corr()\n",
    "corr.style.background_gradient(cmap='coolwarm')      "
   ]
  },
  {
   "cell_type": "markdown",
   "id": "eb51f723",
   "metadata": {},
   "source": [
    "host_listings_count and host_total_listings_count are highly correlated so we should only use one"
   ]
  },
  {
   "cell_type": "code",
   "execution_count": 23,
   "id": "45178f4a",
   "metadata": {},
   "outputs": [],
   "source": [
    "# Load the regular expression library\n",
    "import re\n",
    "\n",
    "vars_for_nlp = ['listing_id','description','comments','neighborhood_overview']\n",
    "\n",
    "for var in [x for x in vars_for_nlp if x not in ['listing_id']]:\n",
    "    df_final_clean[var] = df_final_clean[var].astype('str')\n",
    "    df_final_clean[var] = df_final_clean[var].map(lambda x: re.sub('[,\\.!?]', '', x))    \n",
    "    # Convert the titles to lowercase\n",
    "    df_final_clean[var] = df_final_clean[var].map(lambda x: x.lower())\n",
    "    \n"
   ]
  },
  {
   "cell_type": "markdown",
   "id": "2b3ae95b",
   "metadata": {},
   "source": [
    "### LatentDirichletAllocation Topics\n",
    "\n",
    "#### this will be applied for : \n",
    "1. description\n",
    "2. comments\n",
    "3. neighborhood_overview"
   ]
  },
  {
   "cell_type": "code",
   "execution_count": 24,
   "id": "190e6300",
   "metadata": {},
   "outputs": [],
   "source": [
    "df_for_nlp = df_final_clean[vars_for_nlp]"
   ]
  },
  {
   "cell_type": "code",
   "execution_count": 25,
   "id": "71d9ba78",
   "metadata": {},
   "outputs": [
    {
     "data": {
      "text/html": [
       "<div>\n",
       "<style scoped>\n",
       "    .dataframe tbody tr th:only-of-type {\n",
       "        vertical-align: middle;\n",
       "    }\n",
       "\n",
       "    .dataframe tbody tr th {\n",
       "        vertical-align: top;\n",
       "    }\n",
       "\n",
       "    .dataframe thead th {\n",
       "        text-align: right;\n",
       "    }\n",
       "</style>\n",
       "<table border=\"1\" class=\"dataframe\">\n",
       "  <thead>\n",
       "    <tr style=\"text-align: right;\">\n",
       "      <th></th>\n",
       "      <th>listing_id</th>\n",
       "      <th>description</th>\n",
       "      <th>comments</th>\n",
       "      <th>neighborhood_overview</th>\n",
       "    </tr>\n",
       "  </thead>\n",
       "  <tbody>\n",
       "    <tr>\n",
       "      <th>count</th>\n",
       "      <td>9.531000e+03</td>\n",
       "      <td>46715</td>\n",
       "      <td>46715</td>\n",
       "      <td>46715</td>\n",
       "    </tr>\n",
       "    <tr>\n",
       "      <th>unique</th>\n",
       "      <td>NaN</td>\n",
       "      <td>42106</td>\n",
       "      <td>4441</td>\n",
       "      <td>23690</td>\n",
       "    </tr>\n",
       "    <tr>\n",
       "      <th>top</th>\n",
       "      <td>NaN</td>\n",
       "      <td>nan</td>\n",
       "      <td>nan</td>\n",
       "      <td>nan</td>\n",
       "    </tr>\n",
       "    <tr>\n",
       "      <th>freq</th>\n",
       "      <td>NaN</td>\n",
       "      <td>691</td>\n",
       "      <td>42275</td>\n",
       "      <td>18334</td>\n",
       "    </tr>\n",
       "    <tr>\n",
       "      <th>mean</th>\n",
       "      <td>1.715808e+17</td>\n",
       "      <td>NaN</td>\n",
       "      <td>NaN</td>\n",
       "      <td>NaN</td>\n",
       "    </tr>\n",
       "    <tr>\n",
       "      <th>std</th>\n",
       "      <td>2.835701e+17</td>\n",
       "      <td>NaN</td>\n",
       "      <td>NaN</td>\n",
       "      <td>NaN</td>\n",
       "    </tr>\n",
       "    <tr>\n",
       "      <th>min</th>\n",
       "      <td>2.384000e+03</td>\n",
       "      <td>NaN</td>\n",
       "      <td>NaN</td>\n",
       "      <td>NaN</td>\n",
       "    </tr>\n",
       "    <tr>\n",
       "      <th>25%</th>\n",
       "      <td>2.589190e+07</td>\n",
       "      <td>NaN</td>\n",
       "      <td>NaN</td>\n",
       "      <td>NaN</td>\n",
       "    </tr>\n",
       "    <tr>\n",
       "      <th>50%</th>\n",
       "      <td>4.575613e+07</td>\n",
       "      <td>NaN</td>\n",
       "      <td>NaN</td>\n",
       "      <td>NaN</td>\n",
       "    </tr>\n",
       "    <tr>\n",
       "      <th>75%</th>\n",
       "      <td>5.596362e+17</td>\n",
       "      <td>NaN</td>\n",
       "      <td>NaN</td>\n",
       "      <td>NaN</td>\n",
       "    </tr>\n",
       "    <tr>\n",
       "      <th>max</th>\n",
       "      <td>7.149119e+17</td>\n",
       "      <td>NaN</td>\n",
       "      <td>NaN</td>\n",
       "      <td>NaN</td>\n",
       "    </tr>\n",
       "  </tbody>\n",
       "</table>\n",
       "</div>"
      ],
      "text/plain": [
       "          listing_id description comments neighborhood_overview\n",
       "count   9.531000e+03       46715    46715                 46715\n",
       "unique           NaN       42106     4441                 23690\n",
       "top              NaN         nan      nan                   nan\n",
       "freq             NaN         691    42275                 18334\n",
       "mean    1.715808e+17         NaN      NaN                   NaN\n",
       "std     2.835701e+17         NaN      NaN                   NaN\n",
       "min     2.384000e+03         NaN      NaN                   NaN\n",
       "25%     2.589190e+07         NaN      NaN                   NaN\n",
       "50%     4.575613e+07         NaN      NaN                   NaN\n",
       "75%     5.596362e+17         NaN      NaN                   NaN\n",
       "max     7.149119e+17         NaN      NaN                   NaN"
      ]
     },
     "execution_count": 25,
     "metadata": {},
     "output_type": "execute_result"
    }
   ],
   "source": [
    "df_for_nlp.describe(include='all') "
   ]
  },
  {
   "cell_type": "code",
   "execution_count": 26,
   "id": "5caa8a2e",
   "metadata": {},
   "outputs": [
    {
     "name": "stdout",
     "output_type": "stream",
     "text": [
      "Requirement already satisfied: stop-words in /Users/Jbollini/opt/anaconda3/lib/python3.9/site-packages (2018.7.23)\n",
      "Note: you may need to restart the kernel to use updated packages.\n"
     ]
    }
   ],
   "source": [
    "pip install stop-words"
   ]
  },
  {
   "cell_type": "markdown",
   "id": "df8bd83b",
   "metadata": {},
   "source": [
    "We have to keep in mind that we only have 6000 comments for the listings. Many listings do not have comments. \n"
   ]
  },
  {
   "cell_type": "code",
   "execution_count": 27,
   "id": "2bad0933",
   "metadata": {},
   "outputs": [],
   "source": [
    "# Stop Words\n",
    "from stop_words import get_stop_words\n",
    "from sklearn.decomposition import LatentDirichletAllocation\n",
    "from sklearn.feature_extraction.text import CountVectorizer,HashingVectorizer\n",
    "\n",
    "# Expand stopwords\n",
    "stopwords = get_stop_words('english')\n",
    "airbnb_related_words = ['stay', 'airbnb', 'usa','us','would', 'time','chicago','los','angeles','new','york','nyc','la']\n",
    "numeric = ['1','2','3','4','5','6','7','8','9','0']\n",
    "others_to_remove = ['definitely','recommend','br','home','house','really','room','host','hosts','everything']\n",
    "more_to_remove = [ 'aren', 'can', 'couldn', 'didn', 'doesn', 'don', 'hadn', 'hasn', 'haven', 'isn', 'let', 'll', 'mustn', \n",
    " 're', 'shan', 'shouldn', 've', 'wasn', 'weren', 'won', 'wouldn','check','de','well','will']\n",
    "stopwords.extend(airbnb_related_words)\n",
    "stopwords.extend(others_to_remove)\n",
    "stopwords.extend(more_to_remove)\n",
    "to_use = df_for_nlp[['comments']].drop_duplicates()\n",
    "\n"
   ]
  },
  {
   "cell_type": "markdown",
   "id": "12dc7939",
   "metadata": {},
   "source": [
    "### running LDA on Comments"
   ]
  },
  {
   "cell_type": "code",
   "execution_count": 28,
   "id": "92199b7b",
   "metadata": {},
   "outputs": [],
   "source": [
    "#count_vect = HashingVectorizer(n_features=2**4, stop_words=stopwords)\n",
    "count_vect = CountVectorizer(max_df=0.8, min_df=3, stop_words=stopwords)\n",
    "doc_term_matrix = count_vect.fit_transform(to_use['comments'].values.astype('U'))\n"
   ]
  },
  {
   "cell_type": "code",
   "execution_count": 29,
   "id": "75976562",
   "metadata": {},
   "outputs": [
    {
     "data": {
      "text/plain": [
       "LatentDirichletAllocation(n_components=2, random_state=42)"
      ]
     },
     "execution_count": 29,
     "metadata": {},
     "output_type": "execute_result"
    }
   ],
   "source": [
    "lda_model = LatentDirichletAllocation(n_components=2, random_state=42)\n",
    "lda_model.fit(doc_term_matrix)"
   ]
  },
  {
   "cell_type": "code",
   "execution_count": 30,
   "id": "b1451a73",
   "metadata": {},
   "outputs": [
    {
     "name": "stdout",
     "output_type": "stream",
     "text": [
      "parking\n",
      "neighborhood\n",
      "perfect\n",
      "space\n",
      "apartment\n"
     ]
    },
    {
     "name": "stderr",
     "output_type": "stream",
     "text": [
      "/Users/Jbollini/opt/anaconda3/lib/python3.9/site-packages/sklearn/utils/deprecation.py:87: FutureWarning: Function get_feature_names is deprecated; get_feature_names is deprecated in 1.0 and will be removed in 1.2. Please use get_feature_names_out instead.\n",
      "  warnings.warn(msg, category=FutureWarning)\n"
     ]
    }
   ],
   "source": [
    "first_topic = lda_model.components_[0]\n",
    "top_topic_words = first_topic.argsort()[-5:]\n",
    "for i in top_topic_words:\n",
    "    print(count_vect.get_feature_names()[i])"
   ]
  },
  {
   "cell_type": "code",
   "execution_count": 31,
   "id": "83276d51",
   "metadata": {},
   "outputs": [
    {
     "name": "stdout",
     "output_type": "stream",
     "text": [
      "Top 5 words for topic #0:\n",
      "['parking', 'neighborhood', 'perfect', 'space', 'apartment']\n",
      "\n",
      "\n",
      "Top 5 words for topic #1:\n",
      "['apartment', 'space', 'also', 'close', 'neighborhood']\n",
      "\n",
      "\n"
     ]
    }
   ],
   "source": [
    "for i,topic in enumerate(lda_model.components_):\n",
    "    print(f'Top 5 words for topic #{i}:')\n",
    "    print([count_vect.get_feature_names()[i] for i in topic.argsort()[-5:]])\n",
    "    print('\\n')"
   ]
  },
  {
   "cell_type": "code",
   "execution_count": 32,
   "id": "13acd440",
   "metadata": {},
   "outputs": [],
   "source": [
    "topic_values = lda_model.transform(doc_term_matrix)\n",
    "to_use['Topic_comments'] = topic_values.argmax(axis=1)"
   ]
  },
  {
   "cell_type": "code",
   "execution_count": 33,
   "id": "935f86a3",
   "metadata": {},
   "outputs": [],
   "source": [
    "df_for_nlp = df_for_nlp.merge(to_use,on=['comments'],how='left')\n"
   ]
  },
  {
   "cell_type": "code",
   "execution_count": 34,
   "id": "44319766",
   "metadata": {},
   "outputs": [
    {
     "data": {
      "text/plain": [
       "listing_id                9531\n",
       "description              46715\n",
       "comments                 46715\n",
       "neighborhood_overview    46715\n",
       "Topic_comments           46715\n",
       "dtype: int64"
      ]
     },
     "execution_count": 34,
     "metadata": {},
     "output_type": "execute_result"
    }
   ],
   "source": [
    "df_for_nlp.count()"
   ]
  },
  {
   "cell_type": "markdown",
   "id": "f92b38a9",
   "metadata": {},
   "source": [
    "### running LDA on descriptions\n"
   ]
  },
  {
   "cell_type": "code",
   "execution_count": 35,
   "id": "ab948468",
   "metadata": {},
   "outputs": [
    {
     "data": {
      "text/plain": [
       "LatentDirichletAllocation(n_components=2, random_state=120)"
      ]
     },
     "execution_count": 35,
     "metadata": {},
     "output_type": "execute_result"
    }
   ],
   "source": [
    "to_use1 = df_for_nlp[['description']].drop_duplicates()\n",
    "doc_term_matrix1 = count_vect.fit_transform(to_use1['description'].values.astype('U'))\n",
    "lda_model1 = LatentDirichletAllocation(n_components=2, random_state=120)\n",
    "lda_model1.fit(doc_term_matrix1)"
   ]
  },
  {
   "cell_type": "code",
   "execution_count": 36,
   "id": "0aef8594",
   "metadata": {},
   "outputs": [
    {
     "name": "stdout",
     "output_type": "stream",
     "text": [
      "parking\n",
      "guest\n",
      "access\n",
      "beach\n",
      "space\n"
     ]
    },
    {
     "name": "stderr",
     "output_type": "stream",
     "text": [
      "/Users/Jbollini/opt/anaconda3/lib/python3.9/site-packages/sklearn/utils/deprecation.py:87: FutureWarning: Function get_feature_names is deprecated; get_feature_names is deprecated in 1.0 and will be removed in 1.2. Please use get_feature_names_out instead.\n",
      "  warnings.warn(msg, category=FutureWarning)\n"
     ]
    }
   ],
   "source": [
    "first_topic = lda_model1.components_[0]\n",
    "top_topic_words = first_topic.argsort()[-5:]\n",
    "for i in top_topic_words:\n",
    "    print(count_vect.get_feature_names()[i])"
   ]
  },
  {
   "cell_type": "code",
   "execution_count": 37,
   "id": "6cd5f22e",
   "metadata": {},
   "outputs": [
    {
     "name": "stdout",
     "output_type": "stream",
     "text": [
      "Top 5 words for topic #0:\n",
      "['parking', 'guest', 'access', 'beach', 'space']\n",
      "\n",
      "\n",
      "Top 5 words for topic #1:\n",
      "['bed', 'kitchen', 'bedroom', 'apartment', 'space']\n",
      "\n",
      "\n"
     ]
    }
   ],
   "source": [
    "for i,topic in enumerate(lda_model1.components_):\n",
    "    print(f'Top 5 words for topic #{i}:')\n",
    "    print([count_vect.get_feature_names()[i] for i in topic.argsort()[-5:]])\n",
    "    print('\\n')"
   ]
  },
  {
   "cell_type": "code",
   "execution_count": 38,
   "id": "a9b8de19",
   "metadata": {},
   "outputs": [],
   "source": [
    "topic_values = lda_model1.transform(doc_term_matrix1)\n",
    "to_use1['Topic_description'] = topic_values.argmax(axis=1)"
   ]
  },
  {
   "cell_type": "code",
   "execution_count": 39,
   "id": "2ffebebc",
   "metadata": {},
   "outputs": [],
   "source": [
    "df_for_nlp = df_for_nlp.merge(to_use1,on=['description'],how='left')\n"
   ]
  },
  {
   "cell_type": "code",
   "execution_count": 40,
   "id": "23455045",
   "metadata": {},
   "outputs": [
    {
     "data": {
      "text/plain": [
       "listing_id                9531\n",
       "description              46715\n",
       "comments                 46715\n",
       "neighborhood_overview    46715\n",
       "Topic_comments           46715\n",
       "Topic_description        46715\n",
       "dtype: int64"
      ]
     },
     "execution_count": 40,
     "metadata": {},
     "output_type": "execute_result"
    }
   ],
   "source": [
    "df_for_nlp.count()"
   ]
  },
  {
   "cell_type": "markdown",
   "id": "69f80d79",
   "metadata": {},
   "source": [
    "### Running LDA on neiborhood descriptions"
   ]
  },
  {
   "cell_type": "code",
   "execution_count": 41,
   "id": "7160dc39",
   "metadata": {},
   "outputs": [
    {
     "data": {
      "text/plain": [
       "LatentDirichletAllocation(n_components=2, random_state=120)"
      ]
     },
     "execution_count": 41,
     "metadata": {},
     "output_type": "execute_result"
    }
   ],
   "source": [
    "to_use2 = df_for_nlp[['neighborhood_overview']].drop_duplicates()\n",
    "doc_term_matrix2 = count_vect.fit_transform(to_use2['neighborhood_overview'].values.astype('U'))\n",
    "lda_model2 = LatentDirichletAllocation(n_components=2, random_state=120)\n",
    "lda_model2.fit(doc_term_matrix2)"
   ]
  },
  {
   "cell_type": "code",
   "execution_count": 42,
   "id": "decf2509",
   "metadata": {},
   "outputs": [
    {
     "name": "stdout",
     "output_type": "stream",
     "text": [
      "quiet\n",
      "street\n",
      "park\n",
      "restaurants\n",
      "neighborhood\n"
     ]
    },
    {
     "name": "stderr",
     "output_type": "stream",
     "text": [
      "/Users/Jbollini/opt/anaconda3/lib/python3.9/site-packages/sklearn/utils/deprecation.py:87: FutureWarning: Function get_feature_names is deprecated; get_feature_names is deprecated in 1.0 and will be removed in 1.2. Please use get_feature_names_out instead.\n",
      "  warnings.warn(msg, category=FutureWarning)\n"
     ]
    }
   ],
   "source": [
    "first_topic = lda_model2.components_[0]\n",
    "top_topic_words = first_topic.argsort()[-5:]\n",
    "for i in top_topic_words:\n",
    "    print(count_vect.get_feature_names()[i])"
   ]
  },
  {
   "cell_type": "code",
   "execution_count": 43,
   "id": "4694e0bc",
   "metadata": {},
   "outputs": [
    {
     "name": "stdout",
     "output_type": "stream",
     "text": [
      "Top 5 words for topic #0:\n",
      "['quiet', 'street', 'park', 'restaurants', 'neighborhood']\n",
      "\n",
      "\n",
      "Top 5 words for topic #1:\n",
      "['restaurants', 'park', 'away', 'miles', 'minutes']\n",
      "\n",
      "\n"
     ]
    }
   ],
   "source": [
    "for i,topic in enumerate(lda_model2.components_):\n",
    "    print(f'Top 5 words for topic #{i}:')\n",
    "    print([count_vect.get_feature_names()[i] for i in topic.argsort()[-5:]])\n",
    "    print('\\n')"
   ]
  },
  {
   "cell_type": "code",
   "execution_count": 44,
   "id": "8e048ef8",
   "metadata": {},
   "outputs": [],
   "source": [
    "topic_values = lda_model2.transform(doc_term_matrix2)\n",
    "to_use2['Topic_nh_overview'] = topic_values.argmax(axis=1)"
   ]
  },
  {
   "cell_type": "code",
   "execution_count": 45,
   "id": "b9ef5715",
   "metadata": {},
   "outputs": [],
   "source": [
    "df_for_nlp = df_for_nlp.merge(to_use2,on=['neighborhood_overview'],how='left')"
   ]
  },
  {
   "cell_type": "code",
   "execution_count": 46,
   "id": "698c80d1",
   "metadata": {},
   "outputs": [
    {
     "data": {
      "text/plain": [
       "listing_id                9531\n",
       "description              46715\n",
       "comments                 46715\n",
       "neighborhood_overview    46715\n",
       "Topic_comments           46715\n",
       "Topic_description        46715\n",
       "Topic_nh_overview        46715\n",
       "dtype: int64"
      ]
     },
     "execution_count": 46,
     "metadata": {},
     "output_type": "execute_result"
    }
   ],
   "source": [
    "### Merge back with complete \n",
    "df_for_nlp.count()"
   ]
  },
  {
   "cell_type": "code",
   "execution_count": 47,
   "id": "2cfa0f60",
   "metadata": {},
   "outputs": [],
   "source": [
    "# Add the vars comments: \n",
    "\n",
    "df_for_nlp['topic_comments_word'] = np.where(df_for_nlp['Topic_comments'] == 0,\\\n",
    "                                           'close_apartment_good',\n",
    "                                           'space_neighborhood')\n",
    "\n",
    "df_for_nlp['topic_description_word'] = np.where(df_for_nlp['Topic_description'] == 0,\\\n",
    "                                           'located_access_private_beach_space',\n",
    "                                           'bed_kitchen_bedroom_space_apartment')\n",
    "\n",
    "\n",
    "df_for_nlp['topic_nh_overview_word'] = np.where(df_for_nlp['Topic_nh_overview'] == 0,\\\n",
    "                                           'beach_walk_minutes_away',\n",
    "                                           'park_street_restaurants_bar')\n"
   ]
  },
  {
   "cell_type": "code",
   "execution_count": 48,
   "id": "439e9137",
   "metadata": {},
   "outputs": [],
   "source": [
    "df_for_nlp = df_for_nlp.dropna()"
   ]
  },
  {
   "cell_type": "code",
   "execution_count": 49,
   "id": "5559658f",
   "metadata": {},
   "outputs": [],
   "source": [
    "vars_for_nlp = ['listing_id','topic_comments_word','topic_description_word','topic_nh_overview_word']\n",
    "final_fe_data = df_final_clean.merge(df_for_nlp[vars_for_nlp],on='listing_id',how='left')"
   ]
  },
  {
   "cell_type": "code",
   "execution_count": 50,
   "id": "3c4aa0b5",
   "metadata": {},
   "outputs": [
    {
     "data": {
      "text/plain": [
       "<AxesSubplot:xlabel='topic_description_word', ylabel='price'>"
      ]
     },
     "execution_count": 50,
     "metadata": {},
     "output_type": "execute_result"
    },
    {
     "data": {
      "image/png": "[encoded data removed]",
      "text/plain": [
       "<Figure size 842.4x595.44 with 1 Axes>"
      ]
     },
     "metadata": {},
     "output_type": "display_data"
    }
   ],
   "source": [
    "#Is there a difference in price for the different topics found?\n",
    "topics_var = ['topic_description_word','topic_nh_overview_word','topic_comments_word']\n",
    "sns.set_style(\"white\")\n",
    "sns.boxplot(data=final_fe_data, y=\"price\", x='topic_description_word',showfliers=False,palette=\"rocket\")\n"
   ]
  },
  {
   "cell_type": "code",
   "execution_count": 51,
   "id": "d0438bb2",
   "metadata": {},
   "outputs": [
    {
     "data": {
      "text/plain": [
       "<AxesSubplot:xlabel='topic_nh_overview_word', ylabel='price'>"
      ]
     },
     "execution_count": 51,
     "metadata": {},
     "output_type": "execute_result"
    },
    {
     "data": {
      "image/png": "[encoded data removed]",
      "text/plain": [
       "<Figure size 842.4x595.44 with 1 Axes>"
      ]
     },
     "metadata": {},
     "output_type": "display_data"
    }
   ],
   "source": [
    "sns.boxplot(data=final_fe_data, y=\"price\", x='topic_nh_overview_word',showfliers=False,palette=\"rocket\")\n"
   ]
  },
  {
   "cell_type": "code",
   "execution_count": 52,
   "id": "17ac6cc0",
   "metadata": {},
   "outputs": [
    {
     "data": {
      "text/plain": [
       "<AxesSubplot:xlabel='topic_comments_word', ylabel='price'>"
      ]
     },
     "execution_count": 52,
     "metadata": {},
     "output_type": "execute_result"
    },
    {
     "data": {
      "image/png": "[encoded data removed]",
      "text/plain": [
       "<Figure size 842.4x595.44 with 1 Axes>"
      ]
     },
     "metadata": {},
     "output_type": "display_data"
    }
   ],
   "source": [
    "#keep only the topic comments word\n",
    "sns.boxplot(data=final_fe_data, y=\"price\", x='topic_comments_word',showfliers=False,palette=\"rocket\")\n"
   ]
  },
  {
   "cell_type": "markdown",
   "id": "b66f115b",
   "metadata": {},
   "source": [
    "### Get the more often seen ammenities"
   ]
  },
  {
   "cell_type": "code",
   "execution_count": 53,
   "id": "87e9b4e2",
   "metadata": {},
   "outputs": [
    {
     "name": "stderr",
     "output_type": "stream",
     "text": [
      "/var/folders/tr/q_709j197n3f6py54vpmh1tw0000gn/T/ipykernel_71905/4175702692.py:1: FutureWarning: The default value of regex will change from True to False in a future version.\n",
      "  final_fe_data['amenities'] = final_fe_data['amenities'].str.replace(\"[{}]\", \"\").str.replace('\"', \"\")\n"
     ]
    },
    {
     "data": {
      "text/plain": [
       "0    [Hot water kettle, Conditioner, Heating, Hot w...\n",
       "1    [Room-darkening shades, Hot water kettle, Priv...\n",
       "2    [Washer, Patio or balcony, Heating, Private en...\n",
       "3    [Heating, Free parking on premises, Hot water,...\n",
       "4    [Heating, Free parking on premises, Hot water,...\n",
       "Name: amenities, dtype: object"
      ]
     },
     "execution_count": 53,
     "metadata": {},
     "output_type": "execute_result"
    }
   ],
   "source": [
    "final_fe_data['amenities'] = final_fe_data['amenities'].str.replace(\"[{}]\", \"\").str.replace('\"', \"\")\n",
    "final_fe_data['amenities'].head()"
   ]
  },
  {
   "cell_type": "code",
   "execution_count": 54,
   "id": "346eeb17",
   "metadata": {},
   "outputs": [
    {
     "data": {
      "image/png": "[encoded data removed]",
      "text/plain": [
       "<Figure size 842.4x595.44 with 1 Axes>"
      ]
     },
     "metadata": {},
     "output_type": "display_data"
    }
   ],
   "source": [
    "pd.Series(np.concatenate(final_fe_data['amenities'].map(lambda amns: amns.split(\",\"))))\\\n",
    "    .value_counts().head(20)\\\n",
    "    .plot(kind='bar')\n",
    "ax = plt.gca()\n",
    "ax.set_xticklabels(ax.get_xticklabels(), rotation=45, ha='right', fontsize=12)\n",
    "plt.show()"
   ]
  },
  {
   "cell_type": "code",
   "execution_count": 55,
   "id": "332c3cf5",
   "metadata": {},
   "outputs": [],
   "source": [
    "series_amenities = pd.Series(np.concatenate(final_fe_data['amenities'].map(lambda amns: amns.split(\",\"))))\\\n",
    "    .value_counts().head(400)\n",
    "\n",
    "lst_amenities = list(series_amenities.index)\n",
    "lst_amenities = [sub.replace('[', '') for sub in lst_amenities]\n",
    "lst_amenities = [sub.replace(']', '') for sub in lst_amenities]\n",
    "\n",
    "lst_amenities = [sub.strip() for sub in lst_amenities]"
   ]
  },
  {
   "cell_type": "code",
   "execution_count": 56,
   "id": "2ea8400e",
   "metadata": {},
   "outputs": [
    {
     "data": {
      "text/plain": [
       "['Smoke alarm',\n",
       " 'Essentials',\n",
       " 'Kitchen',\n",
       " 'Carbon monoxide alarm',\n",
       " 'Long term stays allowed',\n",
       " 'Wifi',\n",
       " 'Hot water',\n",
       " 'Hangers',\n",
       " 'Iron',\n",
       " 'Hair dryer',\n",
       " 'Dishes and silverware',\n",
       " 'Coffee maker',\n",
       " 'Cooking basics',\n",
       " 'Heating',\n",
       " 'Microwave',\n",
       " 'Bed linens',\n",
       " 'Shampoo',\n",
       " 'Fire extinguisher',\n",
       " 'Free street parking',\n",
       " 'Air conditioning',\n",
       " 'Refrigerator',\n",
       " 'Dedicated workspace',\n",
       " 'Extra pillows and blankets',\n",
       " 'Oven',\n",
       " 'Stove',\n",
       " 'TV',\n",
       " 'Private entrance',\n",
       " 'Free parking on premises',\n",
       " 'First aid kit',\n",
       " 'Cleaning products',\n",
       " 'Security cameras on property',\n",
       " 'Dishwasher',\n",
       " 'Freezer',\n",
       " 'Dining table',\n",
       " 'Shower gel',\n",
       " 'Dryer',\n",
       " 'Washer',\n",
       " 'Luggage dropoff allowed',\n",
       " 'Wine glasses',\n",
       " 'Hot water kettle',\n",
       " 'Body soap',\n",
       " 'Toaster',\n",
       " 'Room-darkening shades',\n",
       " 'Laundromat nearby',\n",
       " 'Lockbox',\n",
       " 'Lock on bedroom door',\n",
       " 'Bathtub',\n",
       " 'Conditioner',\n",
       " 'BBQ grill',\n",
       " 'Baking sheet',\n",
       " 'Outdoor dining area',\n",
       " 'Outdoor furniture',\n",
       " 'Private patio or balcony',\n",
       " 'First aid kit',\n",
       " 'Refrigerator',\n",
       " 'Central air conditioning',\n",
       " 'Single level home',\n",
       " 'Cable TV',\n",
       " 'Bathtub',\n",
       " 'Central heating',\n",
       " 'Ceiling fan',\n",
       " 'Indoor fireplace',\n",
       " 'Portable fans',\n",
       " 'Backyard',\n",
       " 'Ethernet connection',\n",
       " 'TV with standard cable',\n",
       " 'Elevator',\n",
       " 'Wifi',\n",
       " 'Free washer \\\\u2013 In unit',\n",
       " 'Keypad',\n",
       " 'Patio or balcony',\n",
       " 'Private fenced garden or backyard',\n",
       " 'Barbecue utensils',\n",
       " 'Host greets you',\n",
       " 'Window AC unit',\n",
       " 'Shampoo',\n",
       " 'Smart lock',\n",
       " 'Clothing storage',\n",
       " 'Keurig coffee machine',\n",
       " 'Pack \\\\u2019n play/Travel crib',\n",
       " 'Netflix',\n",
       " 'Mini fridge',\n",
       " 'Board games',\n",
       " 'Stainless steel oven',\n",
       " 'Conditioner',\n",
       " 'Drying rack for clothing',\n",
       " 'Free dryer \\\\u2013 In unit',\n",
       " 'Free dryer \\\\u2013 In unit',\n",
       " 'Fire pit',\n",
       " 'Shared patio or balcony',\n",
       " 'Paid parking off premises',\n",
       " 'Children\\\\u2019s books and toys',\n",
       " 'Cleaning before checkout',\n",
       " 'Safe',\n",
       " 'Rice maker',\n",
       " 'Gym',\n",
       " 'Crib',\n",
       " 'Washer',\n",
       " 'High chair',\n",
       " 'Pool',\n",
       " 'Microwave',\n",
       " 'Beach essentials',\n",
       " 'Smoke alarm',\n",
       " 'Keypad',\n",
       " 'Carbon monoxide alarm',\n",
       " 'Clothing storage: closet',\n",
       " 'Hair dryer',\n",
       " 'Children\\\\u2019s dinnerware',\n",
       " 'Roku',\n",
       " 'HBO Max',\n",
       " 'Radiant heating',\n",
       " 'Paid parking on premises',\n",
       " 'Paid washer \\\\u2013 In building',\n",
       " 'Gas stove',\n",
       " 'Hangers',\n",
       " 'Building staff',\n",
       " 'Paid dryer \\\\u2013 In building',\n",
       " 'Shared fenced garden or backyard',\n",
       " 'Breakfast',\n",
       " 'Clothing storage: closet',\n",
       " 'Cable TV',\n",
       " 'Window guards',\n",
       " 'Clothing storage: closet and dresser',\n",
       " 'Body soap',\n",
       " 'Hot tub',\n",
       " 'Fire extinguisher',\n",
       " 'standard cable',\n",
       " 'Toaster',\n",
       " 'Babysitter recommendations',\n",
       " 'Free dryer \\\\u2013 In building',\n",
       " 'Clothing storage: dresser and closet',\n",
       " 'Apple TV',\n",
       " 'Room-darkening shades',\n",
       " 'Free washer \\\\u2013 In building',\n",
       " 'Air conditioning',\n",
       " 'Trash compactor',\n",
       " 'Amazon Prime Video',\n",
       " 'Dishes and silverware',\n",
       " 'Stainless steel gas stove',\n",
       " 'Shared pool',\n",
       " 'Portable heater',\n",
       " 'Outlet covers',\n",
       " 'Long term stays allowed',\n",
       " 'Clothing storage: closet',\n",
       " 'AC - split type ductless system',\n",
       " 'Hair dryer',\n",
       " 'Pour-over coffee',\n",
       " 'Fireplace guards',\n",
       " 'Portable air conditioning',\n",
       " 'EV charger',\n",
       " 'Bidet',\n",
       " 'Shared hot tub',\n",
       " 'Private hot tub',\n",
       " 'Pack \\\\u2019n play/Travel crib - available upon request',\n",
       " 'Pool table',\n",
       " 'Sound system',\n",
       " 'Pocket wifi',\n",
       " 'Outdoor furniture',\n",
       " 'Waterfront',\n",
       " 'BBQ grill',\n",
       " 'Essentials',\n",
       " 'Nespresso machine',\n",
       " 'Paid parking garage off premises',\n",
       " 'Mosquito net',\n",
       " 'Hot water kettle',\n",
       " 'Clothing storage: dresser',\n",
       " 'Bikes',\n",
       " 'Game console',\n",
       " 'HDTV with Netflix',\n",
       " 'HDTV with Amazon Prime Video',\n",
       " 'Clothing storage: walk-in closet',\n",
       " 'premium cable',\n",
       " 'Shared gym in building',\n",
       " 'Baby bath',\n",
       " 'Stainless steel stove',\n",
       " 'Paid street parking off premises',\n",
       " 'Outdoor shower',\n",
       " 'Record player',\n",
       " 'Piano',\n",
       " 'Clothing storage: wardrobe',\n",
       " 'Lock on bedroom door',\n",
       " 'Dove body soap',\n",
       " 'Private garden or backyard',\n",
       " 'Private pool',\n",
       " 'Kitchen',\n",
       " 'HDTV',\n",
       " 'Bread maker',\n",
       " 'Heating',\n",
       " 'Electric stove',\n",
       " 'Mosquito net',\n",
       " 'Bedroom comforts',\n",
       " 'Beachfront',\n",
       " 'Baby safety gates',\n",
       " 'Chromecast',\n",
       " 'Lake access',\n",
       " 'Full kitchen',\n",
       " 'Free driveway parking on premises \\\\u2013 1 space',\n",
       " 'Shared garden or backyard',\n",
       " 'Crib - available upon request',\n",
       " 'Patio or balcony',\n",
       " 'Self check-in',\n",
       " 'Breakfast',\n",
       " 'Children\\\\u2019s dinnerware',\n",
       " 'Changing table',\n",
       " 'Air conditioning',\n",
       " 'closet',\n",
       " '55\\\\ HDTV with Amazon Prime Video',\n",
       " 'Ping pong table',\n",
       " 'dresser',\n",
       " 'Bathroom essentials',\n",
       " '55\\\\ HDTV with Netflix',\n",
       " 'Free driveway parking on premises',\n",
       " 'HDTV with standard cable',\n",
       " 'HDTV with Roku',\n",
       " 'Clothing storage',\n",
       " 'Heating - split type ductless system',\n",
       " 'and dresser',\n",
       " 'Stainless steel oven',\n",
       " 'Free dryer',\n",
       " 'TV with Netflix',\n",
       " 'Clothing storage: closet and walk-in closet',\n",
       " 'TV with standard cable',\n",
       " 'open specific hours',\n",
       " 'Board games',\n",
       " 'Dedicated workspace',\n",
       " 'Bluetooth sound system',\n",
       " 'Gas stove',\n",
       " 'and closet',\n",
       " 'Extra pillows and blankets',\n",
       " 'Children\\\\u2019s books and toys for ages 0-2 years old',\n",
       " 'and walk-in closet',\n",
       " 'Private gym in building',\n",
       " 'Bluetooth sound system',\n",
       " 'Rice maker',\n",
       " 'TV with Roku',\n",
       " 'Paid parking lot off premises',\n",
       " 'Outdoor furniture',\n",
       " 'walk-in closet',\n",
       " 'High chair',\n",
       " 'Stove',\n",
       " 'TV with Amazon Prime Video',\n",
       " '65\\\\ HDTV with Netflix',\n",
       " 'Host greets you',\n",
       " 'Window AC unit',\n",
       " 'Table corner guards',\n",
       " 'EV charger - level 2',\n",
       " 'Free driveway parking on premises \\\\u2013 2 spaces',\n",
       " '2-5 years old',\n",
       " '65\\\\ HDTV with Amazon Prime Video',\n",
       " 'Bathroom essentials',\n",
       " 'and 10+ years old',\n",
       " 'Pack \\\\u2019n play/Travel crib - always at the listing',\n",
       " '5-10 years old',\n",
       " 'Clothing storage: walk-in closet and closet',\n",
       " 'Central heating',\n",
       " 'Stainless steel electric stove',\n",
       " 'wardrobe',\n",
       " 'Washer',\n",
       " 'Paid parking on premises',\n",
       " 'Free washer',\n",
       " 'Rice maker',\n",
       " 'Fire pit',\n",
       " 'Shared gym nearby',\n",
       " 'Paid parking garage on premises',\n",
       " '50\\\\ HDTV with Amazon Prime Video',\n",
       " 'Baby monitor',\n",
       " 'Samsung refrigerator',\n",
       " 'and wardrobe',\n",
       " 'Sound system with Bluetooth and aux',\n",
       " 'Conditioner',\n",
       " '50\\\\ HDTV with Netflix',\n",
       " 'Pantene conditioner',\n",
       " 'Dryer \\\\u2013 In building',\n",
       " 'Bed linens',\n",
       " 'Free street parking',\n",
       " 'Pantene shampoo',\n",
       " 'Children\\\\u2019s books and toys for ages 0-2 years old and 2-5 years old',\n",
       " 'Heating',\n",
       " '55\\\\ HDTV with Roku',\n",
       " 'Pack \\\\u2019n play/Travel crib - always at the listing',\n",
       " 'open 24 hours',\n",
       " 'Washer \\\\u2013\\\\u00a0In building',\n",
       " 'Children\\\\u2019s books and toys for ages 2-5 years old',\n",
       " 'HDTV with Apple TV',\n",
       " 'Clothing storage: closet and wardrobe',\n",
       " 'Carbon monoxide alarm',\n",
       " 'Building staff',\n",
       " '55\\\\ HDTV',\n",
       " 'Dove conditioner',\n",
       " 'Free residential garage on premises \\\\u2013 1 space',\n",
       " 'Dove shampoo',\n",
       " 'Dryer \\\\u2013\\\\u00a0In unit',\n",
       " 'Outdoor dining area',\n",
       " 'Sonos Bluetooth sound system',\n",
       " 'LG refrigerator',\n",
       " 'Game console: PS4',\n",
       " 'Ceiling fan',\n",
       " 'Paid parking lot on premises \\\\u2013 1 space',\n",
       " 'HDTV with HBO Max',\n",
       " 'Crib',\n",
       " 'Long term stays allowed',\n",
       " 'Private hot tub - available all year',\n",
       " '50\\\\ HDTV with Roku',\n",
       " 'Kitchen',\n",
       " 'Paid washer \\\\u2013 In unit',\n",
       " 'Patio or balcony',\n",
       " 'Piano',\n",
       " 'Pets allowed',\n",
       " 'Baby safety gates',\n",
       " 'Washer \\\\u2013\\\\u00a0In unit',\n",
       " 'Free parking garage on premises \\\\u2013 1 space',\n",
       " 'Paid dryer \\\\u2013 In unit',\n",
       " 'Free carport on premises \\\\u2013 1 space',\n",
       " 'Hot tub',\n",
       " 'Paid parking lot on premises',\n",
       " 'Shared hot tub - available all year',\n",
       " 'Crib - always at the listing',\n",
       " 'Shared sauna',\n",
       " 'Clothing storage: wardrobe and closet',\n",
       " 'Clothing storage: wardrobe and dresser',\n",
       " 'Whirlpool refrigerator',\n",
       " 'Samsung stainless steel oven',\n",
       " 'Free residential garage on premises \\\\u2013 2 spaces',\n",
       " '42\\\\ HDTV with Amazon Prime Video',\n",
       " 'Paid parking garage on premises \\\\u2013 1 space',\n",
       " 'Fenced garden or backyard',\n",
       " 'High chair - available upon request',\n",
       " 'GE refrigerator',\n",
       " 'Shared outdoor pool - available all year',\n",
       " 'Beachfront',\n",
       " '50\\\\ HDTV',\n",
       " 'Coffee maker',\n",
       " 'Pool',\n",
       " '32\\\\ HDTV with Amazon Prime Video',\n",
       " 'Wifi',\n",
       " 'Room-darkening shades',\n",
       " 'EV charger - level 1',\n",
       " 'Frigidaire refrigerator',\n",
       " 'Induction stove',\n",
       " 'Clothing storage: dresser and walk-in closet',\n",
       " 'DVD player',\n",
       " '60\\\\ HDTV with Amazon Prime Video',\n",
       " 'Sound system with aux',\n",
       " '55\\\\ HDTV with HBO Max',\n",
       " 'Private outdoor pool - available all year',\n",
       " 'Clothing storage: dresser and wardrobe',\n",
       " 'Dove  body soap',\n",
       " 'Ethernet connection',\n",
       " 'HDTV with premium cable',\n",
       " 'Laundromat nearby',\n",
       " 'Free driveway parking on premises \\\\u2013 3 spaces',\n",
       " 'Children\\\\u2019s books and toys for ages 2-5 years old and 5-10 years old',\n",
       " '65\\\\ HDTV with Roku',\n",
       " 'Kitchenette',\n",
       " '40\\\\ HDTV with Amazon Prime Video',\n",
       " 'and 5-10 years old',\n",
       " 'Heating - split type ductless system',\n",
       " 'HDTV with',\n",
       " '43\\\\ HDTV with Amazon Prime Video',\n",
       " 'Cable TV',\n",
       " '32\\\\ HDTV with Netflix',\n",
       " 'Gym in building',\n",
       " '55\\\\ HDTV with standard cable',\n",
       " 'heated',\n",
       " 'GE stainless steel oven',\n",
       " 'Bedroom comforts',\n",
       " 'HDTV with Chromecast',\n",
       " 'Long term stays allowed',\n",
       " '42\\\\ HDTV with Netflix',\n",
       " 'Paid washer',\n",
       " '50\\\\ HDTV with standard cable',\n",
       " 'Suave shampoo',\n",
       " 'Free parking garage on premises',\n",
       " 'Standalone high chair - available upon request',\n",
       " 'Paid dryer',\n",
       " 'Free residential garage on premises',\n",
       " 'TV with Apple TV',\n",
       " 'Shared gym in building',\n",
       " 'Free parking on premises \\\\u2013 1 space',\n",
       " '43\\\\ HDTV with Netflix',\n",
       " '65\\\\ HDTV',\n",
       " 'Kayak',\n",
       " 'Suave conditioner',\n",
       " 'Radiant heating',\n",
       " '75\\\\ HDTV with Amazon Prime Video',\n",
       " '40\\\\ HDTV with Netflix',\n",
       " 'Standalone high chair - always at the listing',\n",
       " 'Whirlpool  refrigerator',\n",
       " 'Varies conditioner',\n",
       " '60\\\\ HDTV with Netflix',\n",
       " 'Sauna',\n",
       " 'Private sauna',\n",
       " 'Free parking garage on premises \\\\u2013 2 spaces',\n",
       " 'Shared pool - available all year',\n",
       " 'tesla only',\n",
       " '32\\\\ HDTV',\n",
       " 'Security cameras on property',\n",
       " 'TV with',\n",
       " 'Portable heater',\n",
       " 'Generic body soap']"
      ]
     },
     "execution_count": 56,
     "metadata": {},
     "output_type": "execute_result"
    }
   ],
   "source": [
    "lst_amenities"
   ]
  },
  {
   "cell_type": "code",
   "execution_count": 57,
   "id": "eb11ba3f",
   "metadata": {},
   "outputs": [
    {
     "data": {
      "text/html": [
       "<div>\n",
       "<style scoped>\n",
       "    .dataframe tbody tr th:only-of-type {\n",
       "        vertical-align: middle;\n",
       "    }\n",
       "\n",
       "    .dataframe tbody tr th {\n",
       "        vertical-align: top;\n",
       "    }\n",
       "\n",
       "    .dataframe thead th {\n",
       "        text-align: right;\n",
       "    }\n",
       "</style>\n",
       "<table border=\"1\" class=\"dataframe\">\n",
       "  <thead>\n",
       "    <tr style=\"text-align: right;\">\n",
       "      <th></th>\n",
       "      <th>Smoke alarm</th>\n",
       "      <th>Essentials</th>\n",
       "      <th>Kitchen</th>\n",
       "      <th>Carbon monoxide alarm</th>\n",
       "      <th>Long term stays allowed</th>\n",
       "      <th>Wifi</th>\n",
       "      <th>Hot water</th>\n",
       "      <th>Hangers</th>\n",
       "      <th>Iron</th>\n",
       "      <th>Hair dryer</th>\n",
       "      <th>...</th>\n",
       "      <th>Sauna</th>\n",
       "      <th>Private sauna</th>\n",
       "      <th>Free parking garage on premises \\u2013 2 spaces</th>\n",
       "      <th>Shared pool - available all year</th>\n",
       "      <th>tesla only</th>\n",
       "      <th>32\\ HDTV</th>\n",
       "      <th>Security cameras on property</th>\n",
       "      <th>TV with</th>\n",
       "      <th>Portable heater</th>\n",
       "      <th>Generic body soap</th>\n",
       "    </tr>\n",
       "  </thead>\n",
       "  <tbody>\n",
       "    <tr>\n",
       "      <th>count</th>\n",
       "      <td>54285.000000</td>\n",
       "      <td>54285.000000</td>\n",
       "      <td>54285.000000</td>\n",
       "      <td>54285.000000</td>\n",
       "      <td>54285.000000</td>\n",
       "      <td>54285.000000</td>\n",
       "      <td>54285.000000</td>\n",
       "      <td>54285.000000</td>\n",
       "      <td>54285.000000</td>\n",
       "      <td>54285.000000</td>\n",
       "      <td>...</td>\n",
       "      <td>54285.000000</td>\n",
       "      <td>54285.000000</td>\n",
       "      <td>54285.0</td>\n",
       "      <td>54285.000000</td>\n",
       "      <td>54285.000000</td>\n",
       "      <td>54285.0</td>\n",
       "      <td>54285.000000</td>\n",
       "      <td>54285.000000</td>\n",
       "      <td>54285.000000</td>\n",
       "      <td>54285.000000</td>\n",
       "    </tr>\n",
       "    <tr>\n",
       "      <th>mean</th>\n",
       "      <td>0.944883</td>\n",
       "      <td>0.880483</td>\n",
       "      <td>0.840766</td>\n",
       "      <td>0.852151</td>\n",
       "      <td>0.826490</td>\n",
       "      <td>0.906954</td>\n",
       "      <td>0.782905</td>\n",
       "      <td>0.793221</td>\n",
       "      <td>0.745362</td>\n",
       "      <td>0.780381</td>\n",
       "      <td>...</td>\n",
       "      <td>0.001363</td>\n",
       "      <td>0.001879</td>\n",
       "      <td>0.0</td>\n",
       "      <td>0.001289</td>\n",
       "      <td>0.001271</td>\n",
       "      <td>0.0</td>\n",
       "      <td>0.375776</td>\n",
       "      <td>0.370581</td>\n",
       "      <td>0.029769</td>\n",
       "      <td>0.001253</td>\n",
       "    </tr>\n",
       "    <tr>\n",
       "      <th>std</th>\n",
       "      <td>0.228210</td>\n",
       "      <td>0.324399</td>\n",
       "      <td>0.365897</td>\n",
       "      <td>0.354954</td>\n",
       "      <td>0.378691</td>\n",
       "      <td>0.290500</td>\n",
       "      <td>0.412272</td>\n",
       "      <td>0.404999</td>\n",
       "      <td>0.435661</td>\n",
       "      <td>0.413992</td>\n",
       "      <td>...</td>\n",
       "      <td>0.036896</td>\n",
       "      <td>0.043307</td>\n",
       "      <td>0.0</td>\n",
       "      <td>0.035887</td>\n",
       "      <td>0.035630</td>\n",
       "      <td>0.0</td>\n",
       "      <td>0.484327</td>\n",
       "      <td>0.482965</td>\n",
       "      <td>0.169950</td>\n",
       "      <td>0.035371</td>\n",
       "    </tr>\n",
       "    <tr>\n",
       "      <th>min</th>\n",
       "      <td>0.000000</td>\n",
       "      <td>0.000000</td>\n",
       "      <td>0.000000</td>\n",
       "      <td>0.000000</td>\n",
       "      <td>0.000000</td>\n",
       "      <td>0.000000</td>\n",
       "      <td>0.000000</td>\n",
       "      <td>0.000000</td>\n",
       "      <td>0.000000</td>\n",
       "      <td>0.000000</td>\n",
       "      <td>...</td>\n",
       "      <td>0.000000</td>\n",
       "      <td>0.000000</td>\n",
       "      <td>0.0</td>\n",
       "      <td>0.000000</td>\n",
       "      <td>0.000000</td>\n",
       "      <td>0.0</td>\n",
       "      <td>0.000000</td>\n",
       "      <td>0.000000</td>\n",
       "      <td>0.000000</td>\n",
       "      <td>0.000000</td>\n",
       "    </tr>\n",
       "    <tr>\n",
       "      <th>25%</th>\n",
       "      <td>1.000000</td>\n",
       "      <td>1.000000</td>\n",
       "      <td>1.000000</td>\n",
       "      <td>1.000000</td>\n",
       "      <td>1.000000</td>\n",
       "      <td>1.000000</td>\n",
       "      <td>1.000000</td>\n",
       "      <td>1.000000</td>\n",
       "      <td>0.000000</td>\n",
       "      <td>1.000000</td>\n",
       "      <td>...</td>\n",
       "      <td>0.000000</td>\n",
       "      <td>0.000000</td>\n",
       "      <td>0.0</td>\n",
       "      <td>0.000000</td>\n",
       "      <td>0.000000</td>\n",
       "      <td>0.0</td>\n",
       "      <td>0.000000</td>\n",
       "      <td>0.000000</td>\n",
       "      <td>0.000000</td>\n",
       "      <td>0.000000</td>\n",
       "    </tr>\n",
       "    <tr>\n",
       "      <th>50%</th>\n",
       "      <td>1.000000</td>\n",
       "      <td>1.000000</td>\n",
       "      <td>1.000000</td>\n",
       "      <td>1.000000</td>\n",
       "      <td>1.000000</td>\n",
       "      <td>1.000000</td>\n",
       "      <td>1.000000</td>\n",
       "      <td>1.000000</td>\n",
       "      <td>1.000000</td>\n",
       "      <td>1.000000</td>\n",
       "      <td>...</td>\n",
       "      <td>0.000000</td>\n",
       "      <td>0.000000</td>\n",
       "      <td>0.0</td>\n",
       "      <td>0.000000</td>\n",
       "      <td>0.000000</td>\n",
       "      <td>0.0</td>\n",
       "      <td>0.000000</td>\n",
       "      <td>0.000000</td>\n",
       "      <td>0.000000</td>\n",
       "      <td>0.000000</td>\n",
       "    </tr>\n",
       "    <tr>\n",
       "      <th>75%</th>\n",
       "      <td>1.000000</td>\n",
       "      <td>1.000000</td>\n",
       "      <td>1.000000</td>\n",
       "      <td>1.000000</td>\n",
       "      <td>1.000000</td>\n",
       "      <td>1.000000</td>\n",
       "      <td>1.000000</td>\n",
       "      <td>1.000000</td>\n",
       "      <td>1.000000</td>\n",
       "      <td>1.000000</td>\n",
       "      <td>...</td>\n",
       "      <td>0.000000</td>\n",
       "      <td>0.000000</td>\n",
       "      <td>0.0</td>\n",
       "      <td>0.000000</td>\n",
       "      <td>0.000000</td>\n",
       "      <td>0.0</td>\n",
       "      <td>1.000000</td>\n",
       "      <td>1.000000</td>\n",
       "      <td>0.000000</td>\n",
       "      <td>0.000000</td>\n",
       "    </tr>\n",
       "    <tr>\n",
       "      <th>max</th>\n",
       "      <td>1.000000</td>\n",
       "      <td>1.000000</td>\n",
       "      <td>1.000000</td>\n",
       "      <td>1.000000</td>\n",
       "      <td>1.000000</td>\n",
       "      <td>1.000000</td>\n",
       "      <td>1.000000</td>\n",
       "      <td>1.000000</td>\n",
       "      <td>1.000000</td>\n",
       "      <td>1.000000</td>\n",
       "      <td>...</td>\n",
       "      <td>1.000000</td>\n",
       "      <td>1.000000</td>\n",
       "      <td>0.0</td>\n",
       "      <td>1.000000</td>\n",
       "      <td>1.000000</td>\n",
       "      <td>0.0</td>\n",
       "      <td>1.000000</td>\n",
       "      <td>1.000000</td>\n",
       "      <td>1.000000</td>\n",
       "      <td>1.000000</td>\n",
       "    </tr>\n",
       "  </tbody>\n",
       "</table>\n",
       "<p>8 rows × 400 columns</p>\n",
       "</div>"
      ],
      "text/plain": [
       "        Smoke alarm    Essentials       Kitchen  Carbon monoxide alarm  \\\n",
       "count  54285.000000  54285.000000  54285.000000           54285.000000   \n",
       "mean       0.944883      0.880483      0.840766               0.852151   \n",
       "std        0.228210      0.324399      0.365897               0.354954   \n",
       "min        0.000000      0.000000      0.000000               0.000000   \n",
       "25%        1.000000      1.000000      1.000000               1.000000   \n",
       "50%        1.000000      1.000000      1.000000               1.000000   \n",
       "75%        1.000000      1.000000      1.000000               1.000000   \n",
       "max        1.000000      1.000000      1.000000               1.000000   \n",
       "\n",
       "       Long term stays allowed          Wifi     Hot water       Hangers  \\\n",
       "count             54285.000000  54285.000000  54285.000000  54285.000000   \n",
       "mean                  0.826490      0.906954      0.782905      0.793221   \n",
       "std                   0.378691      0.290500      0.412272      0.404999   \n",
       "min                   0.000000      0.000000      0.000000      0.000000   \n",
       "25%                   1.000000      1.000000      1.000000      1.000000   \n",
       "50%                   1.000000      1.000000      1.000000      1.000000   \n",
       "75%                   1.000000      1.000000      1.000000      1.000000   \n",
       "max                   1.000000      1.000000      1.000000      1.000000   \n",
       "\n",
       "               Iron    Hair dryer  ...         Sauna  Private sauna  \\\n",
       "count  54285.000000  54285.000000  ...  54285.000000   54285.000000   \n",
       "mean       0.745362      0.780381  ...      0.001363       0.001879   \n",
       "std        0.435661      0.413992  ...      0.036896       0.043307   \n",
       "min        0.000000      0.000000  ...      0.000000       0.000000   \n",
       "25%        0.000000      1.000000  ...      0.000000       0.000000   \n",
       "50%        1.000000      1.000000  ...      0.000000       0.000000   \n",
       "75%        1.000000      1.000000  ...      0.000000       0.000000   \n",
       "max        1.000000      1.000000  ...      1.000000       1.000000   \n",
       "\n",
       "       Free parking garage on premises \\u2013 2 spaces  \\\n",
       "count                                          54285.0   \n",
       "mean                                               0.0   \n",
       "std                                                0.0   \n",
       "min                                                0.0   \n",
       "25%                                                0.0   \n",
       "50%                                                0.0   \n",
       "75%                                                0.0   \n",
       "max                                                0.0   \n",
       "\n",
       "       Shared pool - available all year    tesla only  32\\ HDTV  \\\n",
       "count                      54285.000000  54285.000000   54285.0   \n",
       "mean                           0.001289      0.001271       0.0   \n",
       "std                            0.035887      0.035630       0.0   \n",
       "min                            0.000000      0.000000       0.0   \n",
       "25%                            0.000000      0.000000       0.0   \n",
       "50%                            0.000000      0.000000       0.0   \n",
       "75%                            0.000000      0.000000       0.0   \n",
       "max                            1.000000      1.000000       0.0   \n",
       "\n",
       "       Security cameras on property       TV with  Portable heater  \\\n",
       "count                  54285.000000  54285.000000     54285.000000   \n",
       "mean                       0.375776      0.370581         0.029769   \n",
       "std                        0.484327      0.482965         0.169950   \n",
       "min                        0.000000      0.000000         0.000000   \n",
       "25%                        0.000000      0.000000         0.000000   \n",
       "50%                        0.000000      0.000000         0.000000   \n",
       "75%                        1.000000      1.000000         0.000000   \n",
       "max                        1.000000      1.000000         1.000000   \n",
       "\n",
       "       Generic body soap  \n",
       "count       54285.000000  \n",
       "mean            0.001253  \n",
       "std             0.035371  \n",
       "min             0.000000  \n",
       "25%             0.000000  \n",
       "50%             0.000000  \n",
       "75%             0.000000  \n",
       "max             1.000000  \n",
       "\n",
       "[8 rows x 400 columns]"
      ]
     },
     "execution_count": 57,
     "metadata": {},
     "output_type": "execute_result"
    }
   ],
   "source": [
    "# Amenities to use in model: \n",
    "\n",
    "import warnings\n",
    "warnings.filterwarnings('ignore')\n",
    "\n",
    "for am in lst_amenities:\n",
    "     final_fe_data[am] = np.where(final_fe_data['amenities'].str.contains(am),1,0)\n",
    "\n",
    "final_fe_data[lst_amenities].describe()"
   ]
  },
  {
   "cell_type": "code",
   "execution_count": 62,
   "id": "99da35b7",
   "metadata": {},
   "outputs": [],
   "source": [
    "final_fe_data = final_fe_data.fillna(0)"
   ]
  },
  {
   "cell_type": "code",
   "execution_count": 72,
   "id": "34b6e470",
   "metadata": {},
   "outputs": [],
   "source": [
    "corr = final_fe_data[['price'] + lst_amenities].corr()['price'][:].sort_values().dropna().drop_duplicates()\n",
    "corr.to_csv('corr.csv')"
   ]
  },
  {
   "cell_type": "code",
   "execution_count": 70,
   "id": "13075817",
   "metadata": {},
   "outputs": [
    {
     "data": {
      "text/plain": [
       "<AxesSubplot:xlabel='BBQ grill', ylabel='price'>"
      ]
     },
     "execution_count": 70,
     "metadata": {},
     "output_type": "execute_result"
    },
    {
     "data": {
      "image/png": "[encoded data removed]",
      "text/plain": [
       "<Figure size 842.4x595.44 with 1 Axes>"
      ]
     },
     "metadata": {},
     "output_type": "display_data"
    }
   ],
   "source": [
    "sns.boxplot(data=final_fe_data, y=\"price\", x='BBQ grill',showfliers=False,palette=\"rocket\")"
   ]
  },
  {
   "cell_type": "code",
   "execution_count": 73,
   "id": "45b028f6",
   "metadata": {},
   "outputs": [
    {
     "data": {
      "text/plain": [
       "<AxesSubplot:xlabel='Smoke alarm', ylabel='price'>"
      ]
     },
     "execution_count": 73,
     "metadata": {},
     "output_type": "execute_result"
    },
    {
     "data": {
      "image/png": "[encoded data removed]",
      "text/plain": [
       "<Figure size 842.4x595.44 with 1 Axes>"
      ]
     },
     "metadata": {},
     "output_type": "display_data"
    }
   ],
   "source": [
    "#keep only the topic comments word\n",
    "sns.boxplot(data=final_fe_data, y=\"price\", x='Smoke alarm',showfliers=False,palette=\"rocket\")\n"
   ]
  },
  {
   "cell_type": "markdown",
   "id": "b66a28e4",
   "metadata": {},
   "source": [
    "### Categorical Variables - Dummies"
   ]
  },
  {
   "cell_type": "code",
   "execution_count": 74,
   "id": "d369829f",
   "metadata": {},
   "outputs": [],
   "source": [
    "#for catvar in Category_predictors:\n",
    "#    model_data[catvar] = model_data[catvar].astype(\"category\")\n",
    "\n",
    "for_dm_cat = [\"city\",'room_type','topic_comments_word']\n",
    "model_data_dummies = pd.get_dummies(final_fe_data, columns=for_dm_cat)"
   ]
  },
  {
   "cell_type": "code",
   "execution_count": 75,
   "id": "a0c741b3",
   "metadata": {},
   "outputs": [
    {
     "data": {
      "text/html": [
       "<div>\n",
       "<style scoped>\n",
       "    .dataframe tbody tr th:only-of-type {\n",
       "        vertical-align: middle;\n",
       "    }\n",
       "\n",
       "    .dataframe tbody tr th {\n",
       "        vertical-align: top;\n",
       "    }\n",
       "\n",
       "    .dataframe thead th {\n",
       "        text-align: right;\n",
       "    }\n",
       "</style>\n",
       "<table border=\"1\" class=\"dataframe\">\n",
       "  <thead>\n",
       "    <tr style=\"text-align: right;\">\n",
       "      <th></th>\n",
       "      <th>city_Chicago</th>\n",
       "      <th>city_Los angeles</th>\n",
       "      <th>city_New York</th>\n",
       "    </tr>\n",
       "  </thead>\n",
       "  <tbody>\n",
       "    <tr>\n",
       "      <th>0</th>\n",
       "      <td>1</td>\n",
       "      <td>0</td>\n",
       "      <td>0</td>\n",
       "    </tr>\n",
       "    <tr>\n",
       "      <th>7864</th>\n",
       "      <td>0</td>\n",
       "      <td>0</td>\n",
       "      <td>1</td>\n",
       "    </tr>\n",
       "    <tr>\n",
       "      <th>29317</th>\n",
       "      <td>0</td>\n",
       "      <td>1</td>\n",
       "      <td>0</td>\n",
       "    </tr>\n",
       "  </tbody>\n",
       "</table>\n",
       "</div>"
      ],
      "text/plain": [
       "       city_Chicago  city_Los angeles  city_New York\n",
       "0                 1                 0              0\n",
       "7864              0                 0              1\n",
       "29317             0                 1              0"
      ]
     },
     "execution_count": 75,
     "metadata": {},
     "output_type": "execute_result"
    }
   ],
   "source": [
    "pd.set_option('display.max_columns', 500)\n",
    "Stratify_with = ['city_Chicago','city_Los angeles','city_New York']\n",
    "model_data_dummies[Stratify_with].drop_duplicates()"
   ]
  },
  {
   "cell_type": "code",
   "execution_count": 76,
   "id": "36f900fb",
   "metadata": {},
   "outputs": [],
   "source": [
    "model_data_dummies.to_csv('model_data_dummies.csv',index=False)"
   ]
  },
  {
   "cell_type": "code",
   "execution_count": null,
   "id": "ab536d98",
   "metadata": {},
   "outputs": [],
   "source": []
  }
 ],
 "metadata": {
  "kernelspec": {
   "display_name": "Python 3 (ipykernel)",
   "language": "python",
   "name": "python3"
  },
  "language_info": {
   "codemirror_mode": {
    "name": "ipython",
    "version": 3
   },
   "file_extension": ".py",
   "mimetype": "text/x-python",
   "name": "python",
   "nbconvert_exporter": "python",
   "pygments_lexer": "ipython3",
   "version": "3.9.12"
  }
 },
 "nbformat": 4,
 "nbformat_minor": 5
}
